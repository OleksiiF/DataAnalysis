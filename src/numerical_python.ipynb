{
 "cells": [
  {
   "cell_type": "markdown",
   "metadata": {},
   "source": [
    "# NumPy Basics: Arrays and Vectorized Computation"
   ]
  },
  {
   "cell_type": "code",
   "execution_count": 2,
   "outputs": [],
   "source": [
    "from __future__ import division\n",
    "from numpy.random import randn\n",
    "from numpy.linalg import inv, qr\n",
    "import numpy as np\n",
    "import matplotlib.pyplot as plt\n",
    "\n",
    "np.set_printoptions(precision=4, suppress=True)\n",
    "%matplotlib inline"
   ],
   "metadata": {
    "collapsed": false,
    "pycharm": {
     "name": "#%%\n"
    }
   }
  },
  {
   "cell_type": "markdown",
   "metadata": {},
   "source": [
    "## The NumPy ndarray: a multidimensional array object"
   ]
  },
  {
   "cell_type": "code",
   "execution_count": 165,
   "metadata": {
    "collapsed": false
   },
   "outputs": [
    {
     "data": {
      "text/plain": "array([[-0.4706, -0.9192, -0.8388],\n       [ 0.4352, -0.5578, -0.5675]])"
     },
     "execution_count": 165,
     "metadata": {},
     "output_type": "execute_result"
    }
   ],
   "source": [
    "data = randn(2, 3)\n",
    "data"
   ]
  },
  {
   "cell_type": "code",
   "execution_count": 166,
   "outputs": [
    {
     "name": "stdout",
     "output_type": "stream",
     "text": [
      "data * 10=array([[-4.7063, -9.1924, -8.3883],\n",
      "       [ 4.3516, -5.578 , -5.6745]])\n",
      "data * data=array([[0.2215, 0.845 , 0.7036],\n",
      "       [0.1894, 0.3111, 0.322 ]])\n",
      "data ** 0.5=array([[   nan,    nan,    nan],\n",
      "       [0.6597,    nan,    nan]])\n",
      "data + data=array([[-0.9413, -1.8385, -1.6777],\n",
      "       [ 0.8703, -1.1156, -1.1349]])\n",
      "data - data=array([[0., 0., 0.],\n",
      "       [0., 0., 0.]])\n",
      "1 / data=array([[-2.1248, -1.0879, -1.1921],\n",
      "       [ 2.298 , -1.7927, -1.7623]])\n",
      "data.dtype=dtype('float64')\n",
      "data.shape=(2, 3)\n"
     ]
    },
    {
     "name": "stderr",
     "output_type": "stream",
     "text": [
      "<ipython-input-166-4377fb11825f>:3: RuntimeWarning: invalid value encountered in sqrt\n",
      "  print(f\"{data ** 0.5=}\")\n"
     ]
    }
   ],
   "source": [
    "print(f\"{data * 10=}\")\n",
    "print(f\"{data * data=}\")\n",
    "print(f\"{data ** 0.5=}\")\n",
    "print(f\"{data + data=}\")\n",
    "print(f\"{data - data=}\")\n",
    "print(f\"{1 / data=}\")\n",
    "print(f\"{data.dtype=}\\n{data.shape=}\")"
   ],
   "metadata": {
    "collapsed": false,
    "pycharm": {
     "name": "#%%\n"
    }
   }
  },
  {
   "cell_type": "markdown",
   "metadata": {},
   "source": [
    "### Creating ndarrays"
   ]
  },
  {
   "cell_type": "code",
   "execution_count": 167,
   "metadata": {
    "collapsed": false
   },
   "outputs": [
    {
     "name": "stdout",
     "output_type": "stream",
     "text": [
      "arr1=array([6. , 7.5, 8. , 0. , 1. ])\n",
      "arr1.ndim=1\n",
      "arr1.shape=(5,)\n",
      "arr1.dtype=dtype('float64')\n",
      "arr2=array([[1, 2, 3, 4],\n",
      "       [5, 6, 7, 8]])\n",
      "arr2.ndim=2\n",
      "arr2.shape=(2, 4)\n",
      "arr2.dtype=dtype('int64')\n"
     ]
    }
   ],
   "source": [
    "# array convert any sequence to ndarray.\n",
    "data1 = [6, 7.5, 8, 0, 1]\n",
    "arr1 = np.array(data1)\n",
    "data2 = [[1, 2, 3, 4], [5, 6, 7, 8]]\n",
    "arr2 = np.array(data2)\n",
    "\n",
    "print(f\"{arr1=}\")\n",
    "print(f\"{arr1.ndim=}\")\n",
    "print(f\"{arr1.shape=}\")\n",
    "print(f\"{arr1.dtype=}\")\n",
    "\n",
    "print(f\"{arr2=}\")\n",
    "print(f\"{arr2.ndim=}\")\n",
    "print(f\"{arr2.shape=}\")\n",
    "print(f\"{arr2.dtype=}\")"
   ]
  },
  {
   "cell_type": "code",
   "execution_count": 168,
   "metadata": {
    "collapsed": false
   },
   "outputs": [
    {
     "name": "stdout",
     "output_type": "stream",
     "text": [
      "not_empty=array([[[0., 0.],\n",
      "        [0., 0.],\n",
      "        [0., 0.]],\n",
      "\n",
      "       [[0., 0.],\n",
      "        [0., 0.],\n",
      "        [0., 0.]]])\n",
      "not_empty.max()=4.65466656651797e-310\n",
      "np.zeros(10)=array([0., 0., 0., 0., 0., 0., 0., 0., 0., 0.])\n",
      "np.ones(10)=array([1., 1., 1., 1., 1., 1., 1., 1., 1., 1.])\n",
      "np.zeros((3, 6))=array([[0., 0., 0., 0., 0., 0.],\n",
      "       [0., 0., 0., 0., 0., 0.],\n",
      "       [0., 0., 0., 0., 0., 0.]])\n",
      "np.ones_like(arr2)=array([[1, 1, 1, 1],\n",
      "       [1, 1, 1, 1]])\n",
      "np.zeros_like(arr2)=array([[0, 0, 0, 0],\n",
      "       [0, 0, 0, 0]])\n",
      "np.eye(5)=array([[1., 0., 0., 0., 0.],\n",
      "       [0., 1., 0., 0., 0.],\n",
      "       [0., 0., 1., 0., 0.],\n",
      "       [0., 0., 0., 1., 0.],\n",
      "       [0., 0., 0., 0., 1.]])\n",
      "np.identity(3)=array([[1., 0., 0.],\n",
      "       [0., 1., 0.],\n",
      "       [0., 0., 1.]])\n"
     ]
    }
   ],
   "source": [
    "# NB! Array's elements not initiated, but it not empty.\n",
    "not_empty = np.empty((2, 3, 2))\n",
    "print(f\"{not_empty=}\")\n",
    "print(f\"{not_empty.max()=}\")\n",
    "\n",
    "print(f\"{np.zeros(10)=}\")\n",
    "print(f\"{np.ones(10)=}\")\n",
    "print(f\"{np.zeros((3, 6))=}\")\n",
    "\n",
    "print(f\"{np.ones_like(arr2)=}\")\n",
    "print(f\"{np.zeros_like(arr2)=}\")\n",
    "\n",
    "print(f\"{np.eye(5)=}\")\n",
    "print(f\"{np.identity(3)=}\")"
   ]
  },
  {
   "cell_type": "code",
   "execution_count": 169,
   "metadata": {
    "collapsed": false
   },
   "outputs": [
    {
     "name": "stdout",
     "output_type": "stream",
     "text": [
      "np.arange(15)=array([ 0,  1,  2,  3,  4,  5,  6,  7,  8,  9, 10, 11, 12, 13, 14])\n"
     ]
    }
   ],
   "source": [
    "# Like range in Python.\n",
    "print(f\"{np.arange(15)=}\")"
   ]
  },
  {
   "cell_type": "markdown",
   "metadata": {},
   "source": [
    "### Data Types for ndarrays"
   ]
  },
  {
   "cell_type": "code",
   "execution_count": 170,
   "metadata": {
    "collapsed": false
   },
   "outputs": [
    {
     "name": "stdout",
     "output_type": "stream",
     "text": [
      "arr1.dtype=dtype('float64')\n",
      "arr2.dtype=dtype('int64')\n",
      "arr_int_converted=array([1, 2, 3], dtype=int32)\n",
      "arr_float_converted.dtype=dtype('float64')\n"
     ]
    }
   ],
   "source": [
    "arr_float = np.array([1.4, 2.9, 3.1], dtype=np.float64)\n",
    "arr_int = np.array([1, 2, 3], dtype=np.int32)\n",
    "arr_float_converted = arr_int.astype(np.float64)  #NB! Digits after point will be throwing away.\n",
    "arr_int_converted = arr_float.astype(np.int32)\n",
    "\n",
    "print(f\"{arr1.dtype=}\")\n",
    "print(f\"{arr2.dtype=}\")\n",
    "print(f\"{arr_int_converted=}\")\n",
    "print(f\"{arr_float_converted.dtype=}\")"
   ]
  },
  {
   "cell_type": "code",
   "execution_count": 171,
   "metadata": {
    "collapsed": false
   },
   "outputs": [
    {
     "data": {
      "text/plain": "array([ 1.25, -9.6 , 42.  ])"
     },
     "execution_count": 171,
     "metadata": {},
     "output_type": "execute_result"
    }
   ],
   "source": [
    "numeric_strings = np.array(['1.25', '-9.6', '42'], dtype=np.string_)\n",
    "numeric_strings.astype(float)"
   ]
  },
  {
   "cell_type": "code",
   "execution_count": 172,
   "metadata": {
    "collapsed": false
   },
   "outputs": [
    {
     "data": {
      "text/plain": "array([0., 1., 2., 3., 4., 5., 6., 7., 8., 9.])"
     },
     "execution_count": 172,
     "metadata": {},
     "output_type": "execute_result"
    }
   ],
   "source": [
    "int_array = np.arange(10)\n",
    "calibers = np.array([.22, .270, .357, .380, .44, .50], dtype=np.float64)\n",
    "int_array.astype(calibers.dtype)"
   ]
  },
  {
   "cell_type": "code",
   "execution_count": 173,
   "metadata": {
    "collapsed": false
   },
   "outputs": [
    {
     "data": {
      "text/plain": "dtype('uint32')"
     },
     "execution_count": 173,
     "metadata": {},
     "output_type": "execute_result"
    }
   ],
   "source": [
    "empty_uint32 = np.empty(8, dtype='u4')\n",
    "empty_uint32.dtype"
   ]
  },
  {
   "cell_type": "markdown",
   "metadata": {},
   "source": [
    "### Basic indexing and slicing\n",
    "### NB! Slicing of ndarray is a view."
   ]
  },
  {
   "cell_type": "code",
   "execution_count": 174,
   "metadata": {
    "collapsed": false
   },
   "outputs": [
    {
     "name": "stdout",
     "output_type": "stream",
     "text": [
      "[    0     1     2     3     4     5 12345     7     8     9]\n",
      "[ 0  1  2  3  4 64 64 64  8  9]\n"
     ]
    }
   ],
   "source": [
    "arr = np.arange(10)\n",
    "arr_slice = arr[5:8]   # To get a copy - arr[5:8].copy()\n",
    "arr_slice[1] = 12345\n",
    "print(arr)\n",
    "arr_slice[:] = 64\n",
    "print(arr)"
   ]
  },
  {
   "cell_type": "code",
   "execution_count": 175,
   "metadata": {
    "collapsed": false
   },
   "outputs": [
    {
     "data": {
      "text/plain": "array([7, 8, 9])"
     },
     "execution_count": 175,
     "metadata": {},
     "output_type": "execute_result"
    }
   ],
   "source": [
    "arr2d = np.array([[1, 2, 3], [4, 5, 6], [7, 8, 9]])\n",
    "arr2d[2]"
   ]
  },
  {
   "cell_type": "code",
   "execution_count": 176,
   "metadata": {
    "collapsed": false
   },
   "outputs": [
    {
     "name": "stdout",
     "output_type": "stream",
     "text": [
      "arr2d[0][2]=3\n",
      "arr2d[0, 2]=3\n"
     ]
    }
   ],
   "source": [
    "print(f\"{arr2d[0][2]=}\")\n",
    "print(f\"{arr2d[0, 2]=}\")"
   ]
  },
  {
   "cell_type": "code",
   "execution_count": 177,
   "metadata": {
    "collapsed": false
   },
   "outputs": [
    {
     "name": "stdout",
     "output_type": "stream",
     "text": [
      "arr3d=array([[[ 1,  2,  3],\n",
      "        [ 4,  5,  6]],\n",
      "\n",
      "       [[ 7,  8,  9],\n",
      "        [10, 11, 12]]])\n",
      "arr3d[0]=array([[1, 2, 3],\n",
      "       [4, 5, 6]])\n",
      "arr3d=array([[[42, 42, 42],\n",
      "        [42, 42, 42]],\n",
      "\n",
      "       [[ 7,  8,  9],\n",
      "        [10, 11, 12]]])\n",
      "arr3d=array([[[ 1,  2,  3],\n",
      "        [ 4,  5,  6]],\n",
      "\n",
      "       [[ 7,  8,  9],\n",
      "        [10, 11, 12]]])\n",
      "arr3d[1, 0]=array([7, 8, 9])\n"
     ]
    }
   ],
   "source": [
    "arr3d = np.array([[[1, 2, 3], [4, 5, 6]], [[7, 8, 9], [10, 11, 12]]])\n",
    "\n",
    "print(f\"{arr3d=}\")\n",
    "print(f\"{arr3d[0]=}\")\n",
    "\n",
    "old_values = arr3d[0].copy()\n",
    "arr3d[0] = 42\n",
    "print(f\"{arr3d=}\")\n",
    "arr3d[0] = old_values\n",
    "print(f\"{arr3d=}\")\n",
    "print(f\"{arr3d[1, 0]=}\")"
   ]
  },
  {
   "cell_type": "markdown",
   "metadata": {},
   "source": [
    "### Boolean indexing"
   ]
  },
  {
   "cell_type": "code",
   "execution_count": 178,
   "metadata": {
    "collapsed": false
   },
   "outputs": [
    {
     "name": "stdout",
     "output_type": "stream",
     "text": [
      "names=array(['Bob', 'Joe', 'Will', 'Bob', 'Will', 'Joe', 'Joe'], dtype='<U4')\n",
      "data=array([[-0.3726, -0.9266,  1.7551,  1.2098],\n",
      "       [ 1.27  , -0.9744, -0.6347, -0.3957],\n",
      "       [-0.2894, -0.7343, -0.7285,  0.8388],\n",
      "       [ 0.2669,  0.7212,  0.911 , -1.0209],\n",
      "       [-1.4134,  1.2966,  0.2523,  1.1275],\n",
      "       [-0.5684,  0.3094, -0.5774, -1.1686],\n",
      "       [-0.825 , -2.6444, -0.153 , -0.7519]])\n"
     ]
    }
   ],
   "source": [
    "names = np.array(['Bob', 'Joe', 'Will', 'Bob', 'Will', 'Joe', 'Joe'])\n",
    "data = randn(7, 4)\n",
    "print(f\"{names=}\")\n",
    "print(f\"{data=}\")"
   ]
  },
  {
   "cell_type": "code",
   "execution_count": 179,
   "metadata": {
    "collapsed": false
   },
   "outputs": [
    {
     "name": "stdout",
     "output_type": "stream",
     "text": [
      "names == 'Bob'=array([ True, False, False,  True, False, False, False])\n",
      "data[names == 'Bob']=array([[-0.3726, -0.9266,  1.7551,  1.2098],\n",
      "       [ 0.2669,  0.7212,  0.911 , -1.0209]])\n",
      "[[ 1.7551  1.2098]\n",
      " [ 0.911  -1.0209]]\n",
      "[ 1.2098 -1.0209]\n"
     ]
    }
   ],
   "source": [
    "print(f\"{names == 'Bob'=}\")\n",
    "print(f\"{data[names == 'Bob']=}\")  # Boolean indexing\n",
    "\n",
    "# Boolean index + slicing\n",
    "print(f\"{data[names == 'Bob', 2:]}\")\n",
    "print(f\"{data[names == 'Bob', 3]}\")"
   ]
  },
  {
   "cell_type": "code",
   "execution_count": 180,
   "metadata": {
    "collapsed": false
   },
   "outputs": [
    {
     "name": "stdout",
     "output_type": "stream",
     "text": [
      "~(names == 'Bob')=array([False,  True,  True, False,  True,  True,  True])\n",
      "  names != 'Bob' =array([False,  True,  True, False,  True,  True,  True])\n"
     ]
    },
    {
     "data": {
      "text/plain": "array([[ 1.27  , -0.9744, -0.6347, -0.3957],\n       [-0.2894, -0.7343, -0.7285,  0.8388],\n       [-1.4134,  1.2966,  0.2523,  1.1275],\n       [-0.5684,  0.3094, -0.5774, -1.1686],\n       [-0.825 , -2.6444, -0.153 , -0.7519]])"
     },
     "execution_count": 180,
     "metadata": {},
     "output_type": "execute_result"
    }
   ],
   "source": [
    "print(f\"{~(names == 'Bob')=}\")  # NB! (~) => (-)\n",
    "print(f\"  {names != 'Bob' =}\")\n",
    "data[~(names == 'Bob')]  #"
   ]
  },
  {
   "cell_type": "markdown",
   "source": [
    "### & - AND\n",
    "### | - OR"
   ],
   "metadata": {
    "collapsed": false,
    "pycharm": {
     "name": "#%% md\n"
    }
   }
  },
  {
   "cell_type": "code",
   "execution_count": 181,
   "metadata": {
    "collapsed": false
   },
   "outputs": [
    {
     "name": "stdout",
     "output_type": "stream",
     "text": [
      "mask=array([ True, False,  True,  True,  True, False, False])\n",
      "data[mask]=array([[-0.3726, -0.9266,  1.7551,  1.2098],\n",
      "       [-0.2894, -0.7343, -0.7285,  0.8388],\n",
      "       [ 0.2669,  0.7212,  0.911 , -1.0209],\n",
      "       [-1.4134,  1.2966,  0.2523,  1.1275]])\n"
     ]
    }
   ],
   "source": [
    "mask = (names == 'Bob') | (names == 'Will')  # complex boolean condition\n",
    "print(f\"{mask=}\")\n",
    "print(f\"{data[mask]=}\")\n"
   ]
  },
  {
   "cell_type": "code",
   "execution_count": 182,
   "metadata": {
    "collapsed": false
   },
   "outputs": [
    {
     "data": {
      "text/plain": "array([[0.    , 0.    , 1.7551, 1.2098],\n       [1.27  , 0.    , 0.    , 0.    ],\n       [0.    , 0.    , 0.    , 0.8388],\n       [0.2669, 0.7212, 0.911 , 0.    ],\n       [0.    , 1.2966, 0.2523, 1.1275],\n       [0.    , 0.3094, 0.    , 0.    ],\n       [0.    , 0.    , 0.    , 0.    ]])"
     },
     "execution_count": 182,
     "metadata": {},
     "output_type": "execute_result"
    }
   ],
   "source": [
    "data[data < 0] = 0\n",
    "data"
   ]
  },
  {
   "cell_type": "code",
   "execution_count": 183,
   "metadata": {
    "collapsed": false
   },
   "outputs": [
    {
     "data": {
      "text/plain": "array([[7.    , 7.    , 7.    , 7.    ],\n       [1.27  , 0.    , 0.    , 0.    ],\n       [7.    , 7.    , 7.    , 7.    ],\n       [7.    , 7.    , 7.    , 7.    ],\n       [7.    , 7.    , 7.    , 7.    ],\n       [0.    , 0.3094, 0.    , 0.    ],\n       [0.    , 0.    , 0.    , 0.    ]])"
     },
     "execution_count": 183,
     "metadata": {},
     "output_type": "execute_result"
    }
   ],
   "source": [
    "data[names != 'Joe'] = 7\n",
    "data"
   ]
  },
  {
   "cell_type": "markdown",
   "metadata": {},
   "source": [
    "### Fancy indexing\n",
    "### NB! Creating new array"
   ]
  },
  {
   "cell_type": "code",
   "execution_count": 184,
   "metadata": {
    "collapsed": false
   },
   "outputs": [
    {
     "data": {
      "text/plain": "array([[0., 0., 0., 0.],\n       [1., 1., 1., 1.],\n       [2., 2., 2., 2.],\n       [3., 3., 3., 3.],\n       [4., 4., 4., 4.],\n       [5., 5., 5., 5.],\n       [6., 6., 6., 6.],\n       [7., 7., 7., 7.]])"
     },
     "execution_count": 184,
     "metadata": {},
     "output_type": "execute_result"
    }
   ],
   "source": [
    "arr = np.empty((8, 4))\n",
    "for i in range(8):\n",
    "    arr[i] = i\n",
    "arr"
   ]
  },
  {
   "cell_type": "code",
   "execution_count": 185,
   "metadata": {
    "collapsed": false
   },
   "outputs": [
    {
     "name": "stdout",
     "output_type": "stream",
     "text": [
      "arr[[4, 3, 0, 6]]=array([[4., 4., 4., 4.],\n",
      "       [3., 3., 3., 3.],\n",
      "       [0., 0., 0., 0.],\n",
      "       [6., 6., 6., 6.]])\n",
      "arr[[-3, -5, -7]]=array([[5., 5., 5., 5.],\n",
      "       [3., 3., 3., 3.],\n",
      "       [1., 1., 1., 1.]])\n"
     ]
    }
   ],
   "source": [
    "print(f\"{arr[[4, 3, 0, 6]]=}\")\n",
    "print(f\"{arr[[-3, -5, -7]]=}\")"
   ]
  },
  {
   "cell_type": "code",
   "execution_count": 186,
   "metadata": {
    "collapsed": false
   },
   "outputs": [
    {
     "name": "stdout",
     "output_type": "stream",
     "text": [
      "arr=array([[ 0,  1,  2,  3],\n",
      "       [ 4,  5,  6,  7],\n",
      "       [ 8,  9, 10, 11],\n",
      "       [12, 13, 14, 15],\n",
      "       [16, 17, 18, 19],\n",
      "       [20, 21, 22, 23],\n",
      "       [24, 25, 26, 27],\n",
      "       [28, 29, 30, 31]])\n"
     ]
    },
    {
     "data": {
      "text/plain": "array([ 4, 23, 29, 10])"
     },
     "execution_count": 186,
     "metadata": {},
     "output_type": "execute_result"
    }
   ],
   "source": [
    "# more on reshape in Chapter 12\n",
    "arr = np.arange(32).reshape((8, 4))\n",
    "print(f\"{arr=}\")\n",
    "\n",
    "# Indexing by pair of digits\n",
    "arr[\n",
    "    [1, 5, 7, 2],\n",
    "    [0, 3, 1, 2]\n",
    "]"
   ]
  },
  {
   "cell_type": "code",
   "execution_count": 187,
   "metadata": {
    "collapsed": false
   },
   "outputs": [
    {
     "data": {
      "text/plain": "array([[ 4,  7,  5,  6],\n       [20, 23, 21, 22],\n       [28, 31, 29, 30],\n       [ 8, 11,  9, 10]])"
     },
     "execution_count": 187,
     "metadata": {},
     "output_type": "execute_result"
    }
   ],
   "source": [
    "arr[\n",
    "    [1, 5, 7, 2]][:, [0, 3, 1, 2]]"
   ]
  },
  {
   "cell_type": "code",
   "execution_count": 188,
   "metadata": {
    "collapsed": false
   },
   "outputs": [
    {
     "data": {
      "text/plain": "array([[ 4,  7,  5,  6],\n       [20, 23, 21, 22],\n       [28, 31, 29, 30],\n       [ 8, 11,  9, 10]])"
     },
     "execution_count": 188,
     "metadata": {},
     "output_type": "execute_result"
    }
   ],
   "source": [
    "arr[np.ix_(\n",
    "    [1, 5, 7, 2],\n",
    "    [0, 3, 1, 2]\n",
    ")]"
   ]
  },
  {
   "cell_type": "markdown",
   "metadata": {},
   "source": [
    "### Transposing arrays and swapping axes"
   ]
  },
  {
   "cell_type": "code",
   "execution_count": 189,
   "metadata": {
    "collapsed": false
   },
   "outputs": [
    {
     "name": "stdout",
     "output_type": "stream",
     "text": [
      "arr=array([[ 0,  1,  2,  3,  4],\n",
      "       [ 5,  6,  7,  8,  9],\n",
      "       [10, 11, 12, 13, 14]])\n"
     ]
    },
    {
     "data": {
      "text/plain": "array([[ 0,  5, 10],\n       [ 1,  6, 11],\n       [ 2,  7, 12],\n       [ 3,  8, 13],\n       [ 4,  9, 14]])"
     },
     "execution_count": 189,
     "metadata": {},
     "output_type": "execute_result"
    }
   ],
   "source": [
    "arr = np.arange(15).reshape((3, 5))\n",
    "print(f\"{arr=}\")\n",
    "arr.T"
   ]
  },
  {
   "cell_type": "code",
   "execution_count": 190,
   "metadata": {
    "collapsed": false
   },
   "outputs": [
    {
     "data": {
      "text/plain": "array([[ 4.5136, -2.15  ,  0.1238],\n       [-2.15  ,  6.4147,  3.2101],\n       [ 0.1238,  3.2101,  5.5077]])"
     },
     "execution_count": 190,
     "metadata": {},
     "output_type": "execute_result"
    }
   ],
   "source": [
    "arr = np.random.randn(6, 3)\n",
    "np.dot(arr.T, arr)"
   ]
  },
  {
   "cell_type": "code",
   "execution_count": 191,
   "metadata": {
    "collapsed": false
   },
   "outputs": [
    {
     "name": "stdout",
     "output_type": "stream",
     "text": [
      "arr=array([[[ 0,  1,  2,  3],\n",
      "        [ 4,  5,  6,  7]],\n",
      "\n",
      "       [[ 8,  9, 10, 11],\n",
      "        [12, 13, 14, 15]]])\n"
     ]
    },
    {
     "data": {
      "text/plain": "array([[[ 0,  1,  2,  3],\n        [ 8,  9, 10, 11]],\n\n       [[ 4,  5,  6,  7],\n        [12, 13, 14, 15]]])"
     },
     "execution_count": 191,
     "metadata": {},
     "output_type": "execute_result"
    }
   ],
   "source": [
    "arr = np.arange(16).reshape((2, 2, 4))\n",
    "print(f\"{arr=}\")\n",
    "arr.transpose((1, 0, 2))  # Axes number."
   ]
  },
  {
   "cell_type": "code",
   "execution_count": 192,
   "metadata": {
    "collapsed": false
   },
   "outputs": [
    {
     "name": "stdout",
     "output_type": "stream",
     "text": [
      "arr=array([[[ 0,  1,  2,  3],\n",
      "        [ 4,  5,  6,  7]],\n",
      "\n",
      "       [[ 8,  9, 10, 11],\n",
      "        [12, 13, 14, 15]]])\n"
     ]
    },
    {
     "data": {
      "text/plain": "array([[[ 0,  4],\n        [ 1,  5],\n        [ 2,  6],\n        [ 3,  7]],\n\n       [[ 8, 12],\n        [ 9, 13],\n        [10, 14],\n        [11, 15]]])"
     },
     "execution_count": 192,
     "metadata": {},
     "output_type": "execute_result"
    }
   ],
   "source": [
    "print(f\"{arr=}\")\n",
    "arr.swapaxes(1, 2)  # NB! Also return view."
   ]
  },
  {
   "cell_type": "markdown",
   "metadata": {},
   "source": [
    "## Universal Functions: Fast element-wise array functions"
   ]
  },
  {
   "cell_type": "code",
   "execution_count": 193,
   "metadata": {
    "collapsed": false
   },
   "outputs": [
    {
     "name": "stdout",
     "output_type": "stream",
     "text": [
      "arr=array([ 0.4547, -1.7505,  1.0898, -4.4741, -8.7075, -5.2613,  7.183 ])\n",
      "np.sqrt(arr)=array([0.6743,    nan, 1.0439,    nan,    nan,    nan, 2.6801])\n",
      "np.exp(arr)=array([   1.5757,    0.1737,    2.9736,    0.0114,    0.0002,    0.0052,\n",
      "       1316.8712])\n",
      "np.maximum(arr, arr*2)=array([ 0.9094, -1.7505,  2.1796, -4.4741, -8.7075, -5.2613, 14.366 ])\n",
      "np.modf(arr)=(array([ 0.4547, -0.7505,  0.0898, -0.4741, -0.7075, -0.2613,  0.183 ]), array([ 0., -1.,  1., -4., -8., -5.,  7.]))\n"
     ]
    },
    {
     "name": "stderr",
     "output_type": "stream",
     "text": [
      "<ipython-input-193-835cd0b59843>:3: RuntimeWarning: invalid value encountered in sqrt\n",
      "  print(f\"{np.sqrt(arr)=}\")\n"
     ]
    }
   ],
   "source": [
    "arr = randn(7) * 5\n",
    "print(f\"{arr=}\")\n",
    "print(f\"{np.sqrt(arr)=}\")\n",
    "print(f\"{np.exp(arr)=}\")\n",
    "print(f\"{np.maximum(arr, arr*2)=}\")  # element-wise maximum\n",
    "print(f\"{np.modf(arr)=}\")  # return int and float parts of digit"
   ]
  },
  {
   "cell_type": "markdown",
   "metadata": {},
   "source": [
    "## Data processing using arrays"
   ]
  },
  {
   "cell_type": "code",
   "execution_count": 194,
   "metadata": {
    "collapsed": false
   },
   "outputs": [
    {
     "data": {
      "text/plain": "array([[-5.  , -4.99, -4.98, ...,  4.97,  4.98,  4.99],\n       [-5.  , -4.99, -4.98, ...,  4.97,  4.98,  4.99],\n       [-5.  , -4.99, -4.98, ...,  4.97,  4.98,  4.99],\n       ...,\n       [-5.  , -4.99, -4.98, ...,  4.97,  4.98,  4.99],\n       [-5.  , -4.99, -4.98, ...,  4.97,  4.98,  4.99],\n       [-5.  , -4.99, -4.98, ...,  4.97,  4.98,  4.99]])"
     },
     "execution_count": 194,
     "metadata": {},
     "output_type": "execute_result"
    }
   ],
   "source": [
    "points = np.arange(-5, 5, 0.01) # 1000 equally spaced points\n",
    "xs, ys = np.meshgrid(points, points)\n",
    "xs"
   ]
  },
  {
   "cell_type": "code",
   "execution_count": 195,
   "metadata": {
    "collapsed": false
   },
   "outputs": [
    {
     "name": "stdout",
     "output_type": "stream",
     "text": [
      "[[7.0711 7.064  7.0569 ... 7.0499 7.0569 7.064 ]\n",
      " [7.064  7.0569 7.0499 ... 7.0428 7.0499 7.0569]\n",
      " [7.0569 7.0499 7.0428 ... 7.0357 7.0428 7.0499]\n",
      " ...\n",
      " [7.0499 7.0428 7.0357 ... 7.0286 7.0357 7.0428]\n",
      " [7.0569 7.0499 7.0428 ... 7.0357 7.0428 7.0499]\n",
      " [7.064  7.0569 7.0499 ... 7.0428 7.0499 7.0569]]\n"
     ]
    },
    {
     "data": {
      "text/plain": "Text(0.5, 1.0, 'Image plot of $\\\\sqrt{x^2 + y^2}$ for a grid of values')"
     },
     "execution_count": 195,
     "metadata": {},
     "output_type": "execute_result"
    },
    {
     "data": {
      "text/plain": "<Figure size 432x288 with 2 Axes>",
      "image/png": "[encoded data removed]"
     },
     "metadata": {
      "needs_background": "light"
     },
     "output_type": "display_data"
    }
   ],
   "source": [
    "z = np.sqrt(xs ** 2 + ys ** 2)\n",
    "print(z)\n",
    "plt.imshow(z, cmap=plt.cm.gray)\n",
    "plt.colorbar()\n",
    "plt.title(\"Image plot of $\\sqrt{x^2 + y^2}$ for a grid of values\")"
   ]
  },
  {
   "cell_type": "markdown",
   "metadata": {},
   "source": [
    "### Expressing conditional logic as array operations"
   ]
  },
  {
   "cell_type": "code",
   "execution_count": 196,
   "metadata": {
    "collapsed": false
   },
   "outputs": [],
   "source": [
    "xarr = np.array([1.1, 1.2, 1.3, 1.4, 1.5])\n",
    "yarr = np.array([2.1, 2.2, 2.3, 2.4, 2.5])\n",
    "cond = np.array([True, False, True, True, False])"
   ]
  },
  {
   "cell_type": "code",
   "execution_count": 197,
   "metadata": {
    "collapsed": false
   },
   "outputs": [
    {
     "name": "stdout",
     "output_type": "stream",
     "text": [
      "result_if == result_where=array([ True,  True,  True,  True,  True])\n",
      "result_if=[1.1, 2.2, 1.3, 1.4, 2.5]\n",
      "result_where=array([1.1, 2.2, 1.3, 1.4, 2.5])\n"
     ]
    }
   ],
   "source": [
    "result_if = [\n",
    "    (x if c else y)\n",
    "    for x, y, c in zip(xarr, yarr, cond)\n",
    "]\n",
    "result_where = np.where(cond, xarr, yarr)\n",
    "print(f\"{result_if == result_where=}\\n{result_if=}\\n{result_where=}\")"
   ]
  },
  {
   "cell_type": "code",
   "execution_count": 198,
   "metadata": {
    "collapsed": false
   },
   "outputs": [
    {
     "name": "stdout",
     "output_type": "stream",
     "text": [
      "arr=array([[-0.5762, -2.4203, -1.0623,  0.2374],\n",
      "       [ 0.001 ,  0.0653, -1.3675, -0.0303],\n",
      "       [ 0.9405, -0.6424,  1.0402, -1.0829],\n",
      "       [ 0.4292, -0.2362,  0.6418, -0.3317]])\n",
      "np.where(arr > 0, 2, -2)=array([[-2, -2, -2,  2],\n",
      "       [ 2,  2, -2, -2],\n",
      "       [ 2, -2,  2, -2],\n",
      "       [ 2, -2,  2, -2]])\n",
      "np.where(arr > 0, 2, arr)=array([[-0.5762, -2.4203, -1.0623,  2.    ],\n",
      "       [ 2.    ,  2.    , -1.3675, -0.0303],\n",
      "       [ 2.    , -0.6424,  2.    , -1.0829],\n",
      "       [ 2.    , -0.2362,  2.    , -0.3317]])\n"
     ]
    }
   ],
   "source": [
    "arr = randn(4, 4)\n",
    "print(f\"{arr=}\")\n",
    "print(f\"{np.where(arr > 0, 2, -2)=}\")\n",
    "print(f\"{np.where(arr > 0, 2, arr)=}\")  # set only positive values to 2"
   ]
  },
  {
   "cell_type": "code",
   "execution_count": 199,
   "metadata": {
    "collapsed": false
   },
   "outputs": [
    {
     "data": {
      "text/plain": "'\\nresult = []\\nfor i in range(n):\\n    if cond1[i] and cond2[i]:\\n        result.append(0)\\n    elif cond1[i]:\\n        result.append(1)\\n    elif cond2[i]:\\n        result.append(2)\\n    else:\\n        result.append(3)\\n\\nnp.where(cond1 & cond2, 0,\\n         np.where(cond1, 1,\\n                  np.where(cond2, 2, 3)))\\n'"
     },
     "execution_count": 199,
     "metadata": {},
     "output_type": "execute_result"
    }
   ],
   "source": [
    "# Where can be multilevel\n",
    "\"\"\"\n",
    "result = []\n",
    "for i in range(n):\n",
    "    if cond1[i] and cond2[i]:\n",
    "        result.append(0)\n",
    "    elif cond1[i]:\n",
    "        result.append(1)\n",
    "    elif cond2[i]:\n",
    "        result.append(2)\n",
    "    else:\n",
    "        result.append(3)\n",
    "\n",
    "np.where(cond1 & cond2, 0,\n",
    "         np.where(cond1, 1,\n",
    "                  np.where(cond2, 2, 3)))\n",
    "\"\"\""
   ]
  },
  {
   "cell_type": "markdown",
   "metadata": {},
   "source": [
    "### Mathematical and statistical methods"
   ]
  },
  {
   "cell_type": "code",
   "execution_count": 200,
   "metadata": {
    "collapsed": false
   },
   "outputs": [
    {
     "name": "stdout",
     "output_type": "stream",
     "text": [
      "arr=array([[ 1.3941, -1.0767, -0.1925, -0.8712],\n",
      "       [ 0.4209, -1.2114, -0.2589, -0.5816],\n",
      "       [-1.2604,  0.4646, -1.0702,  0.8042],\n",
      "       [-0.1567,  2.0104, -0.8871, -0.9779],\n",
      "       [-0.2672,  0.4833, -0.4003,  0.4499]])\n",
      "arr.mean()=-0.15924891157148174\n",
      "arr.mean(axis=1)=array([-0.1866, -0.4078, -0.2655, -0.0028,  0.0664])\n",
      "np.mean(arr)=-0.15924891157148174\n",
      "arr.sum()=-3.184978231429635\n",
      "arr.sum(0)=array([ 0.1306,  0.6701, -2.809 , -1.1767])\n"
     ]
    }
   ],
   "source": [
    "arr = np.random.randn(5, 4)  # normally-distributed data\n",
    "print(f\"{arr=}\")\n",
    "print(f\"{arr.mean()=}\")\n",
    "print(f\"{arr.mean(axis=1)=}\")\n",
    "print(f\"{np.mean(arr)=}\")\n",
    "print(f\"{arr.sum()=}\")\n",
    "print(f\"{arr.sum(0)=}\")"
   ]
  },
  {
   "cell_type": "code",
   "execution_count": 201,
   "metadata": {
    "collapsed": false
   },
   "outputs": [
    {
     "name": "stdout",
     "output_type": "stream",
     "text": [
      "arr.cumsum(0)=array([[ 0,  1,  2],\n",
      "       [ 3,  5,  7],\n",
      "       [ 9, 12, 15]])\n",
      "arr.cumprod(1)=array([[  0,   0,   0],\n",
      "       [  3,  12,  60],\n",
      "       [  6,  42, 336]])\n"
     ]
    }
   ],
   "source": [
    "arr = np.array([\n",
    "    [0, 1, 2],\n",
    "    [3, 4, 5],\n",
    "    [6, 7, 8]\n",
    "])\n",
    "print(f\"{arr.cumsum(0)=}\")\n",
    "print(f\"{arr.cumprod(1)=}\")"
   ]
  },
  {
   "cell_type": "markdown",
   "metadata": {},
   "source": [
    "### Methods for boolean arrays"
   ]
  },
  {
   "cell_type": "code",
   "execution_count": 202,
   "metadata": {
    "collapsed": false
   },
   "outputs": [
    {
     "name": "stdout",
     "output_type": "stream",
     "text": [
      "(arr > 0).sum()=48\n"
     ]
    }
   ],
   "source": [
    "arr = randn(100)\n",
    "print(f\"{(arr > 0).sum()=}\")  # Number of positive values"
   ]
  },
  {
   "cell_type": "code",
   "execution_count": 203,
   "metadata": {
    "collapsed": false
   },
   "outputs": [
    {
     "name": "stdout",
     "output_type": "stream",
     "text": [
      "bools.any()=True\n",
      "bools.all()=False\n"
     ]
    }
   ],
   "source": [
    "bools = np.array([False, False, True, False])\n",
    "print(f\"{bools.any()=}\")\n",
    "print(f\"{bools.all()=}\")"
   ]
  },
  {
   "cell_type": "markdown",
   "metadata": {},
   "source": [
    "### Sorting"
   ]
  },
  {
   "cell_type": "code",
   "execution_count": 204,
   "metadata": {
    "collapsed": false
   },
   "outputs": [
    {
     "name": "stdout",
     "output_type": "stream",
     "text": [
      "arr=array([-2.4491, -1.0339,  1.5995,  0.4741,  0.1513, -0.5422, -0.4755,\n",
      "        0.1064])\n",
      "arr=array([-2.4491, -1.0339, -0.5422, -0.4755,  0.1064,  0.1513,  0.4741,\n",
      "        1.5995])\n"
     ]
    }
   ],
   "source": [
    "arr = randn(8)\n",
    "print(f\"{arr=}\")\n",
    "arr.sort()\n",
    "print(f\"{arr=}\")"
   ]
  },
  {
   "cell_type": "code",
   "execution_count": 205,
   "metadata": {
    "collapsed": false
   },
   "outputs": [
    {
     "name": "stdout",
     "output_type": "stream",
     "text": [
      "arr=array([[-1.3082,  2.1732,  0.5646],\n",
      "       [-0.1905, -0.9169, -0.9758],\n",
      "       [ 2.2123,  0.0739,  1.8186],\n",
      "       [-1.5815, -0.7744,  0.5529],\n",
      "       [ 0.1061,  3.9275, -0.2551]])\n",
      "arr=array([[-1.3082,  0.5646,  2.1732],\n",
      "       [-0.9758, -0.9169, -0.1905],\n",
      "       [ 0.0739,  1.8186,  2.2123],\n",
      "       [-1.5815, -0.7744,  0.5529],\n",
      "       [-0.2551,  0.1061,  3.9275]])\n"
     ]
    }
   ],
   "source": [
    "arr = randn(5, 3)\n",
    "print(f\"{arr=}\")\n",
    "arr.sort(1)\n",
    "print(f\"{arr=}\")"
   ]
  },
  {
   "cell_type": "code",
   "execution_count": 206,
   "metadata": {
    "collapsed": false
   },
   "outputs": [
    {
     "data": {
      "text/plain": "-1.5555693321217359"
     },
     "execution_count": 206,
     "metadata": {},
     "output_type": "execute_result"
    }
   ],
   "source": [
    "large_arr = randn(1000)\n",
    "large_arr.sort()\n",
    "large_arr[int(0.05 * len(large_arr))]  # 5% quantile"
   ]
  },
  {
   "cell_type": "markdown",
   "metadata": {},
   "source": [
    "### Unique and other set logic"
   ]
  },
  {
   "cell_type": "code",
   "execution_count": 207,
   "metadata": {
    "collapsed": false
   },
   "outputs": [
    {
     "name": "stdout",
     "output_type": "stream",
     "text": [
      "np.unique(names)=array(['Bob', 'Joe', 'Will'], dtype='<U4')\n",
      "np.unique(ints)=array([1, 2, 3, 4])\n"
     ]
    }
   ],
   "source": [
    "names = np.array(['Bob', 'Joe', 'Will', 'Bob', 'Will', 'Joe', 'Joe'])\n",
    "print(f\"{np.unique(names)=}\")\n",
    "ints = np.array([3, 3, 3, 2, 2, 1, 1, 4, 4])\n",
    "print(f\"{np.unique(ints)=}\")"
   ]
  },
  {
   "cell_type": "code",
   "execution_count": 208,
   "metadata": {
    "collapsed": false
   },
   "outputs": [
    {
     "data": {
      "text/plain": "array([ True, False, False,  True,  True, False,  True])"
     },
     "execution_count": 208,
     "metadata": {},
     "output_type": "execute_result"
    }
   ],
   "source": [
    "values = np.array([6, 0, 0, 3, 2, 5, 6])\n",
    "np.in1d(values, [2, 3, 6])"
   ]
  },
  {
   "cell_type": "markdown",
   "metadata": {},
   "source": [
    "### Storing arrays on disk in binary format"
   ]
  },
  {
   "cell_type": "code",
   "execution_count": 209,
   "metadata": {
    "collapsed": false
   },
   "outputs": [],
   "source": [
    "arr = np.arange(10)\n",
    "np.save('some_array', arr)  # .npy suffix auto-added\n",
    "np.load('some_array.npy')\n",
    "!rm some_array.npy"
   ]
  },
  {
   "cell_type": "code",
   "execution_count": 210,
   "metadata": {
    "collapsed": false
   },
   "outputs": [
    {
     "data": {
      "text/plain": "array([0, 1, 2, 3, 4, 5, 6, 7, 8, 9])"
     },
     "execution_count": 210,
     "metadata": {},
     "output_type": "execute_result"
    }
   ],
   "source": [
    "np.savez('array_archive.npz', a=arr, b=arr)  # zip-archive\n",
    "arch = np.load('array_archive.npz')\n",
    "!rm array_archive.npz\n",
    "arch['b']"
   ]
  },
  {
   "cell_type": "markdown",
   "metadata": {},
   "source": [
    "### Saving and loading text files"
   ]
  },
  {
   "cell_type": "code",
   "execution_count": 211,
   "metadata": {
    "collapsed": false
   },
   "outputs": [
    {
     "name": "stdout",
     "output_type": "stream",
     "text": [
      "0.580052,0.186730,1.040717,1.134411\r\n",
      "0.194163,-0.636917,-0.938659,0.124094\r\n",
      "-0.126410,0.268607,-0.695724,0.047428\r\n",
      "-1.484413,0.004176,-0.744203,0.005487\r\n",
      "2.302869,0.200131,1.670238,-1.881090\r\n",
      "-0.193230,1.047233,0.482803,0.960334\r\n"
     ]
    }
   ],
   "source": [
    "!cat data/some_array.txt"
   ]
  },
  {
   "cell_type": "code",
   "execution_count": 212,
   "outputs": [
    {
     "data": {
      "text/plain": "array([[ 0.5801,  0.1867,  1.0407,  1.1344],\n       [ 0.1942, -0.6369, -0.9387,  0.1241],\n       [-0.1264,  0.2686, -0.6957,  0.0474],\n       [-1.4844,  0.0042, -0.7442,  0.0055],\n       [ 2.3029,  0.2001,  1.6702, -1.8811],\n       [-0.1932,  1.0472,  0.4828,  0.9603]])"
     },
     "execution_count": 212,
     "metadata": {},
     "output_type": "execute_result"
    }
   ],
   "source": [
    "arr = np.loadtxt('data/some_array.txt', delimiter=',')\n",
    "arr"
   ],
   "metadata": {
    "collapsed": false,
    "pycharm": {
     "name": "#%%\n"
    }
   }
  },
  {
   "cell_type": "markdown",
   "metadata": {},
   "source": [
    "## Linear algebra"
   ]
  },
  {
   "cell_type": "code",
   "execution_count": 213,
   "metadata": {
    "collapsed": false
   },
   "outputs": [
    {
     "name": "stdout",
     "output_type": "stream",
     "text": [
      "x = array([[1., 2., 3.],\n",
      "       [4., 5., 6.]])\n",
      "y = array([[ 6., 23.],\n",
      "       [-1.,  7.],\n",
      "       [ 8.,  9.]])\n",
      "x.dot(y) = array([[ 28.,  64.],\n",
      "       [ 67., 181.]])\n",
      "np.dot(x, np.ones(3)) = array([ 6., 15.])\n"
     ]
    }
   ],
   "source": [
    "x = np.array([[1., 2., 3.], [4., 5., 6.]])\n",
    "y = np.array([[6., 23.], [-1, 7], [8, 9]])\n",
    "print(f\"{x = }\")\n",
    "print(f\"{y = }\")\n",
    "print(f\"{x.dot(y) = }\")  # equivalently np.dot(x, y)\n",
    "print(f\"{np.dot(x, np.ones(3)) = }\")"
   ]
  },
  {
   "cell_type": "code",
   "execution_count": 214,
   "metadata": {
    "collapsed": false
   },
   "outputs": [],
   "source": [
    "np.random.seed(12345)"
   ]
  },
  {
   "cell_type": "code",
   "execution_count": 215,
   "metadata": {
    "collapsed": false
   },
   "outputs": [
    {
     "name": "stdout",
     "output_type": "stream",
     "text": [
      "inv(mat) = array([[ 3.0361, -0.1808, -0.6878, -2.8285, -1.1911],\n",
      "       [-0.1808,  0.5035,  0.1215,  0.6702,  0.0956],\n",
      "       [-0.6878,  0.1215,  0.2904,  0.8081,  0.3049],\n",
      "       [-2.8285,  0.6702,  0.8081,  3.4152,  1.1557],\n",
      "       [-1.1911,  0.0956,  0.3049,  1.1557,  0.6051]])\n",
      "mat.dot(inv(mat)) = array([[ 1.,  0., -0., -0.,  0.],\n",
      "       [-0.,  1., -0.,  0., -0.],\n",
      "       [-0.,  0.,  1.,  0.,  0.],\n",
      "       [ 0., -0., -0.,  1.,  0.],\n",
      "       [ 0., -0., -0., -0.,  1.]])\n"
     ]
    },
    {
     "data": {
      "text/plain": "array([[ -6.9271,   7.389 ,   6.1227,  -7.1163,  -4.9215],\n       [  0.    ,  -3.9735,  -0.8671,   2.9747,  -5.7402],\n       [  0.    ,   0.    , -10.2681,   1.8909,   1.6079],\n       [  0.    ,   0.    ,   0.    ,  -1.2996,   3.3577],\n       [  0.    ,   0.    ,   0.    ,   0.    ,   0.5571]])"
     },
     "execution_count": 215,
     "metadata": {},
     "output_type": "execute_result"
    }
   ],
   "source": [
    "X = randn(5, 5)\n",
    "mat = X.T.dot(X)  # multiply\n",
    "print(f\"{inv(mat) = }\")  # inverse matrix\n",
    "print(f\"{mat.dot(inv(mat)) = }\")\n",
    "q, r = qr(mat)\n",
    "r"
   ]
  },
  {
   "cell_type": "markdown",
   "metadata": {},
   "source": [
    "## Random number generation"
   ]
  },
  {
   "cell_type": "code",
   "execution_count": 216,
   "metadata": {
    "collapsed": false
   },
   "outputs": [
    {
     "data": {
      "text/plain": "array([[ 0.1241,  0.3026,  0.5238,  0.0009],\n       [ 1.3438, -0.7135, -0.8312, -2.3702],\n       [-1.8608, -0.8608,  0.5601, -1.2659],\n       [ 0.1198, -1.0635,  0.3329, -2.3594]])"
     },
     "execution_count": 216,
     "metadata": {},
     "output_type": "execute_result"
    }
   ],
   "source": [
    "samples = np.random.normal(size=(4, 4))\n",
    "samples"
   ]
  },
  {
   "cell_type": "code",
   "execution_count": 218,
   "metadata": {
    "collapsed": false
   },
   "outputs": [
    {
     "name": "stdout",
     "output_type": "stream",
     "text": [
      "483 ms ± 9.18 ms per loop (mean ± std. dev. of 7 runs, 1 loop each)\n",
      "20.4 ms ± 474 µs per loop (mean ± std. dev. of 7 runs, 10 loops each)\n"
     ]
    }
   ],
   "source": [
    "N = 1000000\n",
    "%timeit samples = [normalvariate(0, 1) for _ in range(N)]\n",
    "%timeit np.random.normal(size=N)"
   ]
  },
  {
   "cell_type": "markdown",
   "metadata": {},
   "source": [
    "## Example: Random Walks"
   ]
  },
  {
   "cell_type": "code",
   "metadata": {
    "pycharm": {
     "name": "#%%\n"
    }
   },
   "source": [
    "import random\n",
    "position = 0\n",
    "walk = [position]\n",
    "steps = 1000\n",
    "for i in range(steps):\n",
    "    step = 1 if random.randint(0, 1) else -1\n",
    "    position += step\n",
    "    walk.append(position)"
   ],
   "execution_count": 219,
   "outputs": []
  },
  {
   "cell_type": "code",
   "execution_count": 220,
   "metadata": {
    "collapsed": false
   },
   "outputs": [],
   "source": [
    "np.random.seed(12345)"
   ]
  },
  {
   "cell_type": "code",
   "execution_count": 232,
   "metadata": {
    "collapsed": false
   },
   "outputs": [
    {
     "name": "stdout",
     "output_type": "stream",
     "text": [
      "walk.min() = -75\n",
      "walk.max() = 7\n"
     ]
    },
    {
     "data": {
      "text/plain": "array([  1,   2,   3,   2,   1,   0,   1,   0,   1,   2,   1,   0,   1,\n         2,   1,   2,   3,   4,   5,   6,   5,   4,   5,   4,   5,   6,\n         7,   6,   5,   4,   3,   4,   3,   2,   1,   2,   1,   0,   1,\n         0,  -1,   0,  -1,   0,   1,   2,   1,   0,  -1,  -2,  -3,  -2,\n        -3,  -4,  -5,  -6,  -5,  -4,  -5,  -4,  -3,  -2,  -1,   0,   1,\n         0,  -1,   0,  -1,  -2,  -3,  -4,  -5,  -4,  -3,  -2,  -3,  -4,\n        -5,  -6,  -5,  -4,  -5,  -4,  -5,  -4,  -5,  -4,  -5,  -6,  -7,\n        -6,  -7,  -8,  -9,  -8,  -7,  -6,  -7,  -6,  -7,  -6,  -7,  -8,\n        -9, -10, -11, -12, -13, -14, -15, -16, -17, -16, -17, -16, -15,\n       -16, -17, -16, -17, -18, -19, -20, -19, -18, -19, -18, -17, -16,\n       -15, -14, -13, -14, -13, -14, -15, -14, -15, -14, -15, -14, -13,\n       -14, -15, -16, -15, -16, -17, -16, -17, -18, -19, -20, -19, -18,\n       -19, -18, -17, -18, -17, -18, -19, -18, -19, -20, -19, -18, -19,\n       -18, -19, -18, -19, -18, -19, -20, -21, -22, -21, -20, -21, -22,\n       -21, -22, -21, -20, -21, -20, -21, -22, -23, -24, -25, -26, -25,\n       -26, -25, -26, -25, -24, -23, -24, -25, -26, -25, -26, -25, -24,\n       -23, -22, -21, -22, -21, -22, -21, -20, -21, -22, -21, -22, -21,\n       -20, -21, -22, -21, -20, -19, -18, -19, -18, -19, -20, -19, -20,\n       -21, -20, -21, -20, -21, -20, -19, -20, -21, -22, -23, -24, -23,\n       -22, -21, -20, -21, -22, -21, -22, -21, -20, -21, -20, -19, -18,\n       -19, -18, -17, -16, -17, -18, -19, -18, -19, -20, -19, -18, -17,\n       -18, -17, -18, -17, -18, -17, -18, -19, -20, -21, -22, -21, -22,\n       -21, -20, -21, -20, -19, -20, -19, -20, -19, -20, -21, -20, -21,\n       -22, -21, -20, -21, -22, -21, -22, -21, -20, -19, -20, -21, -22,\n       -23, -22, -23, -22, -23, -24, -25, -24, -25, -24, -25, -26, -27,\n       -26, -25, -26, -25, -24, -25, -24, -25, -24, -23, -22, -21, -22,\n       -21, -22, -23, -24, -25, -24, -23, -24, -23, -24, -25, -24, -23,\n       -24, -23, -24, -23, -22, -21, -20, -21, -22, -23, -22, -21, -22,\n       -23, -24, -25, -24, -23, -22, -21, -22, -23, -24, -23, -24, -25,\n       -26, -27, -26, -27, -26, -27, -28, -27, -26, -25, -26, -27, -26,\n       -27, -28, -29, -30, -29, -30, -31, -30, -29, -28, -27, -28, -29,\n       -30, -29, -28, -27, -26, -27, -28, -29, -30, -31, -30, -31, -32,\n       -33, -34, -35, -34, -35, -34, -35, -36, -35, -36, -37, -36, -37,\n       -38, -39, -38, -39, -40, -41, -40, -41, -40, -39, -38, -39, -38,\n       -37, -36, -35, -36, -37, -38, -39, -40, -41, -42, -41, -42, -41,\n       -40, -41, -40, -39, -38, -37, -36, -35, -34, -35, -34, -35, -34,\n       -35, -36, -35, -34, -35, -36, -35, -36, -37, -36, -35, -36, -35,\n       -34, -33, -34, -33, -34, -35, -36, -35, -34, -35, -36, -37, -36,\n       -37, -36, -35, -36, -37, -38, -37, -38, -39, -40, -41, -40, -39,\n       -38, -37, -36, -35, -36, -35, -36, -35, -36, -37, -36, -35, -34,\n       -35, -36, -37, -38, -39, -40, -41, -40, -41, -42, -41, -40, -39,\n       -40, -41, -40, -41, -42, -41, -42, -43, -42, -43, -44, -43, -44,\n       -45, -46, -47, -48, -47, -48, -47, -46, -45, -46, -47, -48, -47,\n       -48, -47, -46, -45, -44, -45, -44, -45, -46, -47, -48, -49, -50,\n       -51, -50, -49, -48, -47, -48, -49, -48, -49, -48, -47, -46, -45,\n       -46, -45, -46, -47, -46, -47, -46, -47, -46, -47, -48, -49, -50,\n       -51, -50, -51, -50, -51, -50, -51, -50, -49, -50, -49, -48, -47,\n       -48, -49, -50, -49, -50, -51, -50, -51, -50, -51, -50, -49, -50,\n       -49, -48, -49, -48, -49, -48, -49, -50, -51, -52, -53, -52, -51,\n       -52, -51, -50, -51, -50, -49, -48, -49, -48, -47, -48, -49, -48,\n       -49, -50, -49, -50, -51, -52, -53, -54, -55, -56, -57, -56, -55,\n       -54, -53, -54, -55, -56, -55, -56, -57, -58, -59, -60, -61, -60,\n       -61, -62, -61, -60, -61, -60, -59, -58, -59, -58, -59, -58, -59,\n       -60, -61, -62, -61, -60, -59, -60, -61, -60, -61, -60, -59, -58,\n       -57, -56, -57, -58, -57, -56, -55, -56, -55, -56, -57, -56, -55,\n       -56, -57, -56, -57, -56, -57, -58, -57, -58, -59, -60, -61, -60,\n       -59, -60, -59, -58, -59, -60, -61, -60, -61, -60, -61, -60, -61,\n       -60, -59, -58, -59, -60, -61, -62, -61, -60, -59, -58, -57, -58,\n       -59, -58, -57, -58, -59, -58, -57, -58, -59, -58, -57, -58, -59,\n       -58, -59, -58, -59, -60, -61, -62, -63, -62, -61, -62, -63, -64,\n       -65, -66, -67, -68, -67, -66, -65, -66, -65, -66, -65, -64, -63,\n       -64, -65, -64, -65, -66, -67, -66, -65, -64, -65, -64, -65, -66,\n       -67, -68, -67, -68, -67, -68, -67, -66, -65, -66, -67, -66, -67,\n       -68, -69, -70, -71, -70, -71, -72, -73, -72, -71, -72, -71, -72,\n       -71, -70, -69, -70, -71, -70, -69, -70, -69, -68, -67, -68, -67,\n       -66, -67, -68, -67, -68, -67, -68, -69, -70, -71, -72, -71, -70,\n       -69, -70, -71, -72, -71, -70, -69, -68, -67, -68, -69, -70, -69,\n       -68, -69, -68, -69, -68, -67, -68, -69, -70, -69, -70, -71, -70,\n       -71, -72, -71, -70, -71, -72, -73, -74, -73, -72, -73, -72, -73,\n       -72, -71, -70, -71, -72, -73, -74, -73, -72, -73, -74, -75, -74,\n       -75, -74, -73, -72, -73, -72, -71, -72, -73, -72, -71, -70, -71,\n       -70, -69, -68, -67, -68, -67, -68, -67, -66, -67, -66, -65, -64,\n       -63, -62, -61, -62, -63, -62, -61, -60, -59, -58, -59, -58, -57,\n       -58, -57, -56, -57, -56, -55, -56, -55, -56, -57, -56, -57, -56,\n       -57, -56, -55, -56, -55, -56, -55, -56, -57, -56, -55, -56, -57,\n       -56, -57, -58, -59, -58, -57, -58, -57, -56, -57, -58, -59, -60,\n       -59, -58, -59, -60, -59, -60, -61, -60, -61, -62, -63, -62])"
     },
     "execution_count": 232,
     "metadata": {},
     "output_type": "execute_result"
    }
   ],
   "source": [
    "nsteps = 1000\n",
    "draws = np.random.randint(0, 2, size=nsteps)\n",
    "steps = np.where(draws > 0, 1, -1)\n",
    "walk = steps.cumsum()\n",
    "print(f\"{walk.min() = }\")\n",
    "print(f\"{walk.max() = }\")\n",
    "walk"
   ]
  },
  {
   "cell_type": "code",
   "execution_count": 234,
   "metadata": {
    "collapsed": false
   },
   "outputs": [
    {
     "data": {
      "text/plain": "105"
     },
     "execution_count": 234,
     "metadata": {},
     "output_type": "execute_result"
    }
   ],
   "source": [
    "(np.abs(walk) >= 10).argmax()"
   ]
  },
  {
   "cell_type": "markdown",
   "metadata": {},
   "source": [
    "### Simulating many random walks at once"
   ]
  },
  {
   "cell_type": "code",
   "execution_count": 5,
   "metadata": {
    "collapsed": false
   },
   "outputs": [
    {
     "data": {
      "text/plain": "array([[  1,   2,   3, ..., -48, -47, -48],\n       [  1,   0,   1, ..., -18, -19, -18],\n       [  1,   0,   1, ...,  36,  37,  38],\n       ...,\n       [ -1,   0,   1, ...,  12,  11,  12],\n       [  1,   0,  -1, ...,   2,   3,   4],\n       [  1,   2,   1, ...,   6,   5,   4]])"
     },
     "execution_count": 5,
     "metadata": {},
     "output_type": "execute_result"
    }
   ],
   "source": [
    "nwalks = 5000\n",
    "nsteps = 1000\n",
    "draws = np.random.randint(0, 2, size=(nwalks, nsteps)) # 0 or 1\n",
    "steps = np.where(draws > 0, 1, -1)\n",
    "walks = steps.cumsum(1)\n",
    "walks"
   ]
  },
  {
   "cell_type": "code",
   "execution_count": 6,
   "metadata": {
    "collapsed": false
   },
   "outputs": [
    {
     "name": "stdout",
     "output_type": "stream",
     "text": [
      "walks.min() = -118\n",
      "walks.max() = 105\n"
     ]
    }
   ],
   "source": [
    "print(f\"{walks.min() = }\")\n",
    "print(f\"{walks.max() = }\")"
   ]
  },
  {
   "cell_type": "code",
   "execution_count": 10,
   "metadata": {
    "collapsed": false
   },
   "outputs": [
    {
     "name": "stdout",
     "output_type": "stream",
     "text": [
      "hits30 = array([ True, False,  True, ..., False, False, False])\n"
     ]
    },
    {
     "data": {
      "text/plain": "3466"
     },
     "execution_count": 10,
     "metadata": {},
     "output_type": "execute_result"
    }
   ],
   "source": [
    "hits30 = (np.abs(walks) >= 30).any(1)\n",
    "print(f\"{hits30 = }\")\n",
    "hits30.sum() # Number that hit 30 or -30"
   ]
  },
  {
   "cell_type": "code",
   "execution_count": 12,
   "metadata": {
    "collapsed": false
   },
   "outputs": [
    {
     "name": "stdout",
     "output_type": "stream",
     "text": [
      "crossing_times = array([533, 769, 371, ..., 533, 663, 273])\n"
     ]
    },
    {
     "data": {
      "text/plain": "504.5585689555684"
     },
     "execution_count": 12,
     "metadata": {},
     "output_type": "execute_result"
    }
   ],
   "source": [
    "crossing_times = (np.abs(walks[hits30]) >= 30).argmax(1)\n",
    "print(f\"{crossing_times = }\")\n",
    "crossing_times.mean()"
   ]
  },
  {
   "cell_type": "code",
   "execution_count": 14,
   "metadata": {
    "collapsed": false,
    "pycharm": {
     "name": "#%%\n"
    }
   },
   "outputs": [
    {
     "data": {
      "text/plain": "array([[-0.2325, -0.3661,  0.5868, ...,  0.1059,  0.1957,  0.0327],\n       [-0.444 ,  0.2401, -0.0864, ...,  0.5653,  0.2924, -0.5366],\n       [-0.1639,  0.5771, -0.0144, ...,  0.2726, -0.0874, -0.206 ],\n       ...,\n       [ 0.2523, -0.012 ,  0.3293, ..., -0.0768,  0.0607, -0.0904],\n       [ 0.217 , -0.2283, -0.108 , ...,  0.165 ,  0.1833, -0.3179],\n       [ 0.0255,  0.0253,  0.052 , ...,  0.1724,  0.2279, -0.039 ]])"
     },
     "execution_count": 14,
     "metadata": {},
     "output_type": "execute_result"
    }
   ],
   "source": [
    "steps = np.random.normal(\n",
    "    loc=0, scale=0.25,\n",
    "    size=(nwalks, nsteps)\n",
    ")\n",
    "steps"
   ]
  }
 ],
 "metadata": {
  "kernelspec": {
   "name": "python3",
   "language": "python",
   "display_name": "Python 3"
  },
  "language_info": {
   "codemirror_mode": {
    "name": "ipython",
    "version": 2
   },
   "file_extension": ".py",
   "mimetype": "text/x-python",
   "name": "python",
   "nbconvert_exporter": "python",
   "pygments_lexer": "ipython2",
   "version": "2.7.10"
  }
 },
 "nbformat": 4,
 "nbformat_minor": 0
}