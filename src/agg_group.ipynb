{
 "cells": [
  {
   "cell_type": "markdown",
   "metadata": {},
   "source": [
    "# Data Aggregation and Group Operations"
   ]
  },
  {
   "cell_type": "code",
   "execution_count": 106,
   "metadata": {
    "collapsed": false
   },
   "outputs": [],
   "source": [
    "from __future__ import division\n",
    "from numpy.random import randn\n",
    "import numpy as np\n",
    "import os\n",
    "import matplotlib.pyplot as plt\n",
    "np.random.seed(12345)\n",
    "plt.rc('figure', figsize=(10, 6))\n",
    "from pandas import Series, DataFrame\n",
    "import pandas as pd\n",
    "np.set_printoptions(precision=4)"
   ]
  },
  {
   "cell_type": "code",
   "execution_count": 107,
   "metadata": {
    "collapsed": false
   },
   "outputs": [],
   "source": [
    "pd.options.display.notebook_repr_html = False"
   ]
  },
  {
   "cell_type": "code",
   "execution_count": 108,
   "metadata": {
    "collapsed": false
   },
   "outputs": [],
   "source": [
    "%matplotlib inline"
   ]
  },
  {
   "cell_type": "markdown",
   "metadata": {},
   "source": [
    "## GroupBy mechanics"
   ]
  },
  {
   "cell_type": "code",
   "execution_count": 109,
   "metadata": {
    "collapsed": false
   },
   "outputs": [
    {
     "data": {
      "text/plain": "  key1 key2     data1     data2\n0    a  one -0.204708  1.393406\n1    a  two  0.478943  0.092908\n2    b  one -0.519439  0.281746\n3    b  two -0.555730  0.769023\n4    a  one  1.965781  1.246435"
     },
     "execution_count": 109,
     "metadata": {},
     "output_type": "execute_result"
    }
   ],
   "source": [
    "df = DataFrame({\n",
    "    'key1' : ['a', 'a', 'b', 'b', 'a'],\n",
    "    'key2' : ['one', 'two', 'one', 'two', 'one'],\n",
    "    'data1' : np.random.randn(5),\n",
    "    'data2' : np.random.randn(5)\n",
    "})\n",
    "df"
   ]
  },
  {
   "cell_type": "code",
   "execution_count": 110,
   "metadata": {
    "collapsed": false
   },
   "outputs": [
    {
     "data": {
      "text/plain": "<pandas.core.groupby.generic.SeriesGroupBy object at 0x7f2e892ee970>"
     },
     "execution_count": 110,
     "metadata": {},
     "output_type": "execute_result"
    }
   ],
   "source": [
    "grouped = df['data1'].groupby(df['key1'])\n",
    "grouped  # NB! GroupBy object with intermediate values"
   ]
  },
  {
   "cell_type": "code",
   "execution_count": 111,
   "metadata": {
    "collapsed": false
   },
   "outputs": [
    {
     "data": {
      "text/plain": "key1\na    0.746672\nb   -0.537585\nName: data1, dtype: float64"
     },
     "execution_count": 111,
     "metadata": {},
     "output_type": "execute_result"
    }
   ],
   "source": [
    "grouped.mean()"
   ]
  },
  {
   "cell_type": "code",
   "execution_count": 112,
   "metadata": {
    "collapsed": false
   },
   "outputs": [
    {
     "data": {
      "text/plain": "key1  key2\na     one     0.880536\n      two     0.478943\nb     one    -0.519439\n      two    -0.555730\nName: data1, dtype: float64"
     },
     "execution_count": 112,
     "metadata": {},
     "output_type": "execute_result"
    }
   ],
   "source": [
    "means = df['data1'].groupby([df['key1'], df['key2']]).mean()\n",
    "means"
   ]
  },
  {
   "cell_type": "code",
   "execution_count": 113,
   "metadata": {
    "collapsed": false
   },
   "outputs": [
    {
     "data": {
      "text/plain": "key2       one       two\nkey1                    \na     0.880536  0.478943\nb    -0.519439 -0.555730"
     },
     "execution_count": 113,
     "metadata": {},
     "output_type": "execute_result"
    }
   ],
   "source": [
    "means.unstack()"
   ]
  },
  {
   "cell_type": "code",
   "execution_count": 114,
   "metadata": {
    "collapsed": false
   },
   "outputs": [
    {
     "data": {
      "text/plain": "California  2005    0.478943\n            2006   -0.519439\nOhio        2005   -0.380219\n            2006    1.965781\nName: data1, dtype: float64"
     },
     "execution_count": 114,
     "metadata": {},
     "output_type": "execute_result"
    }
   ],
   "source": [
    "states = np.array(['Ohio', 'California', 'California', 'Ohio', 'Ohio'])\n",
    "years = np.array([2005, 2005, 2006, 2005, 2006])\n",
    "df['data1'].groupby([states, years]).mean()"
   ]
  },
  {
   "cell_type": "code",
   "execution_count": 115,
   "metadata": {
    "collapsed": false
   },
   "outputs": [
    {
     "data": {
      "text/plain": "         data1     data2\nkey1                    \na     0.746672  0.910916\nb    -0.537585  0.525384"
     },
     "execution_count": 115,
     "metadata": {},
     "output_type": "execute_result"
    }
   ],
   "source": [
    "df.groupby('key1').mean()"
   ]
  },
  {
   "cell_type": "code",
   "execution_count": 116,
   "metadata": {
    "collapsed": false
   },
   "outputs": [
    {
     "data": {
      "text/plain": "              data1     data2\nkey1 key2                    \na    one   0.880536  1.319920\n     two   0.478943  0.092908\nb    one  -0.519439  0.281746\n     two  -0.555730  0.769023"
     },
     "execution_count": 116,
     "metadata": {},
     "output_type": "execute_result"
    }
   ],
   "source": [
    "df.groupby(['key1', 'key2']).mean()"
   ]
  },
  {
   "cell_type": "code",
   "execution_count": 117,
   "metadata": {
    "collapsed": false
   },
   "outputs": [
    {
     "data": {
      "text/plain": "key1  key2\na     one     2\n      two     1\nb     one     1\n      two     1\ndtype: int64"
     },
     "execution_count": 117,
     "metadata": {},
     "output_type": "execute_result"
    }
   ],
   "source": [
    "df.groupby(['key1', 'key2']).size()"
   ]
  },
  {
   "cell_type": "markdown",
   "metadata": {},
   "source": [
    "### Iterating over groups"
   ]
  },
  {
   "cell_type": "code",
   "execution_count": 118,
   "metadata": {
    "collapsed": false
   },
   "outputs": [
    {
     "name": "stdout",
     "output_type": "stream",
     "text": [
      "a\n",
      "  key1 key2     data1     data2\n",
      "0    a  one -0.204708  1.393406\n",
      "1    a  two  0.478943  0.092908\n",
      "4    a  one  1.965781  1.246435\n",
      "b\n",
      "  key1 key2     data1     data2\n",
      "2    b  one -0.519439  0.281746\n",
      "3    b  two -0.555730  0.769023\n"
     ]
    }
   ],
   "source": [
    "for name, group in df.groupby('key1'):\n",
    "    print(name)\n",
    "    print(group)"
   ]
  },
  {
   "cell_type": "code",
   "execution_count": 119,
   "metadata": {
    "collapsed": false
   },
   "outputs": [
    {
     "name": "stdout",
     "output_type": "stream",
     "text": [
      "('a', 'one')\n",
      "  key1 key2     data1     data2\n",
      "0    a  one -0.204708  1.393406\n",
      "4    a  one  1.965781  1.246435\n",
      "('a', 'two')\n",
      "  key1 key2     data1     data2\n",
      "1    a  two  0.478943  0.092908\n",
      "('b', 'one')\n",
      "  key1 key2     data1     data2\n",
      "2    b  one -0.519439  0.281746\n",
      "('b', 'two')\n",
      "  key1 key2    data1     data2\n",
      "3    b  two -0.55573  0.769023\n"
     ]
    }
   ],
   "source": [
    "for (k1, k2), group in df.groupby(['key1', 'key2']):\n",
    "    print((k1, k2))\n",
    "    print(group)"
   ]
  },
  {
   "cell_type": "code",
   "execution_count": 120,
   "metadata": {
    "collapsed": false
   },
   "outputs": [
    {
     "data": {
      "text/plain": "  key1 key2     data1     data2\n2    b  one -0.519439  0.281746\n3    b  two -0.555730  0.769023"
     },
     "execution_count": 120,
     "metadata": {},
     "output_type": "execute_result"
    }
   ],
   "source": [
    "pieces = dict(list(df.groupby('key1')))\n",
    "pieces['b']"
   ]
  },
  {
   "cell_type": "code",
   "execution_count": 121,
   "metadata": {
    "collapsed": false
   },
   "outputs": [
    {
     "data": {
      "text/plain": "key1      object\nkey2      object\ndata1    float64\ndata2    float64\ndtype: object"
     },
     "execution_count": 121,
     "metadata": {},
     "output_type": "execute_result"
    }
   ],
   "source": [
    "df.dtypes"
   ]
  },
  {
   "cell_type": "code",
   "execution_count": 122,
   "metadata": {
    "collapsed": false
   },
   "outputs": [
    {
     "data": {
      "text/plain": "{dtype('float64'):       data1     data2\n 0 -0.204708  1.393406\n 1  0.478943  0.092908\n 2 -0.519439  0.281746\n 3 -0.555730  0.769023\n 4  1.965781  1.246435,\n dtype('O'):   key1 key2\n 0    a  one\n 1    a  two\n 2    b  one\n 3    b  two\n 4    a  one}"
     },
     "execution_count": 122,
     "metadata": {},
     "output_type": "execute_result"
    }
   ],
   "source": [
    "grouped = df.groupby(df.dtypes, axis=1)\n",
    "dict(list(grouped))"
   ]
  },
  {
   "cell_type": "markdown",
   "metadata": {},
   "source": [
    "### Selecting a column or subset of columns"
   ]
  },
  {
   "cell_type": "raw",
   "metadata": {},
   "source": [
    "df.groupby('key1')['data1']\n",
    "df.groupby('key1')[['data2']]\n",
    "equivalent to\n",
    "df['data1'].groupby(df['key1'])\n",
    "df[['data2']].groupby(df['key1'])"
   ]
  },
  {
   "cell_type": "code",
   "execution_count": 123,
   "metadata": {
    "collapsed": false
   },
   "outputs": [
    {
     "data": {
      "text/plain": "              data2\nkey1 key2          \na    one   1.319920\n     two   0.092908\nb    one   0.281746\n     two   0.769023"
     },
     "execution_count": 123,
     "metadata": {},
     "output_type": "execute_result"
    }
   ],
   "source": [
    "df.groupby(['key1', 'key2'])[['data2']].mean()"
   ]
  },
  {
   "cell_type": "code",
   "execution_count": 124,
   "metadata": {
    "collapsed": false
   },
   "outputs": [
    {
     "data": {
      "text/plain": "<pandas.core.groupby.generic.SeriesGroupBy object at 0x7f2e8931e4c0>"
     },
     "execution_count": 124,
     "metadata": {},
     "output_type": "execute_result"
    }
   ],
   "source": [
    "s_grouped = df.groupby(['key1', 'key2'])['data2']\n",
    "s_grouped"
   ]
  },
  {
   "cell_type": "code",
   "execution_count": 125,
   "metadata": {
    "collapsed": false
   },
   "outputs": [
    {
     "data": {
      "text/plain": "key1  key2\na     one     1.319920\n      two     0.092908\nb     one     0.281746\n      two     0.769023\nName: data2, dtype: float64"
     },
     "execution_count": 125,
     "metadata": {},
     "output_type": "execute_result"
    }
   ],
   "source": [
    "s_grouped.mean()"
   ]
  },
  {
   "cell_type": "markdown",
   "metadata": {},
   "source": [
    "### Grouping with dicts and Series"
   ]
  },
  {
   "cell_type": "code",
   "execution_count": 126,
   "metadata": {
    "collapsed": false
   },
   "outputs": [
    {
     "data": {
      "text/plain": "               a         b         c         d         e\nJoe     1.007189 -1.296221  0.274992  0.228913  1.352917\nSteve   0.886429 -2.001637 -0.371843  1.669025 -0.438570\nWes    -0.539741       NaN       NaN -1.021228 -0.577087\nJim     0.124121  0.302614  0.523772  0.000940  1.343810\nTravis -0.713544 -0.831154 -2.370232 -1.860761 -0.860757"
     },
     "execution_count": 126,
     "metadata": {},
     "output_type": "execute_result"
    }
   ],
   "source": [
    "people = DataFrame(\n",
    "    np.random.randn(5, 5),\n",
    "    columns=['a', 'b', 'c', 'd', 'e'],\n",
    "    index=['Joe', 'Steve', 'Wes', 'Jim', 'Travis']\n",
    ")\n",
    "people.loc[2:3, ['b', 'c']] = np.nan # Add a few NA values\n",
    "people"
   ]
  },
  {
   "cell_type": "code",
   "execution_count": 127,
   "metadata": {
    "collapsed": false
   },
   "outputs": [],
   "source": [
    "mapping = {\n",
    "    'a': 'red', 'b': 'red', 'c': 'blue',\n",
    "    'd': 'blue', 'e': 'red', 'f' : 'orange'\n",
    "}"
   ]
  },
  {
   "cell_type": "code",
   "execution_count": 128,
   "metadata": {
    "collapsed": false
   },
   "outputs": [
    {
     "data": {
      "text/plain": "            blue       red\nJoe     0.503905  1.063885\nSteve   1.297183 -1.553778\nWes    -1.021228 -1.116829\nJim     0.524712  1.770545\nTravis -4.230992 -2.405455"
     },
     "execution_count": 128,
     "metadata": {},
     "output_type": "execute_result"
    }
   ],
   "source": [
    "by_column = people.groupby(mapping, axis=1)\n",
    "by_column.sum()"
   ]
  },
  {
   "cell_type": "code",
   "execution_count": 129,
   "metadata": {
    "collapsed": false
   },
   "outputs": [
    {
     "data": {
      "text/plain": "a       red\nb       red\nc      blue\nd      blue\ne       red\nf    orange\ndtype: object"
     },
     "execution_count": 129,
     "metadata": {},
     "output_type": "execute_result"
    }
   ],
   "source": [
    "map_series = Series(mapping)\n",
    "map_series"
   ]
  },
  {
   "cell_type": "code",
   "execution_count": 130,
   "metadata": {
    "collapsed": false
   },
   "outputs": [
    {
     "data": {
      "text/plain": "        blue  red\nJoe        2    3\nSteve      2    3\nWes        1    2\nJim        2    3\nTravis     2    3"
     },
     "execution_count": 130,
     "metadata": {},
     "output_type": "execute_result"
    }
   ],
   "source": [
    "people.groupby(map_series, axis=1).count()"
   ]
  },
  {
   "cell_type": "markdown",
   "metadata": {},
   "source": [
    "### Grouping with functions"
   ]
  },
  {
   "cell_type": "code",
   "execution_count": 131,
   "metadata": {
    "collapsed": false
   },
   "outputs": [
    {
     "data": {
      "text/plain": "          a         b         c         d         e\n3  0.591569 -0.993608  0.798764 -0.791374  2.119639\n5  0.886429 -2.001637 -0.371843  1.669025 -0.438570\n6 -0.713544 -0.831154 -2.370232 -1.860761 -0.860757"
     },
     "execution_count": 131,
     "metadata": {},
     "output_type": "execute_result"
    }
   ],
   "source": [
    "# Group by len of name? for example.\n",
    "# Func apply for every cell\n",
    "people.groupby(len).sum()"
   ]
  },
  {
   "cell_type": "code",
   "execution_count": 132,
   "metadata": {
    "collapsed": false
   },
   "outputs": [
    {
     "data": {
      "text/plain": "              a         b         c         d         e\n3 one -0.539741 -1.296221  0.274992 -1.021228 -0.577087\n  two  0.124121  0.302614  0.523772  0.000940  1.343810\n5 one  0.886429 -2.001637 -0.371843  1.669025 -0.438570\n6 two -0.713544 -0.831154 -2.370232 -1.860761 -0.860757"
     },
     "execution_count": 132,
     "metadata": {},
     "output_type": "execute_result"
    }
   ],
   "source": [
    "# It's acceptable to use func, list, dict, Series in same time\n",
    "key_list = ['one', 'one', 'one', 'two', 'two']\n",
    "people.groupby([len, key_list]).min()"
   ]
  },
  {
   "cell_type": "markdown",
   "metadata": {},
   "source": [
    "### Grouping by index levels"
   ]
  },
  {
   "cell_type": "code",
   "execution_count": 133,
   "metadata": {
    "collapsed": false
   },
   "outputs": [
    {
     "data": {
      "text/plain": "cty          US                            JP          \ntenor         1         3         5         1         3\n0      0.560145 -1.265934  0.119827 -1.063512  0.332883\n1     -2.359419 -0.199543 -1.541996 -0.970736 -1.307030\n2      0.286350  0.377984 -0.753887  0.331286  1.349742\n3      0.069877  0.246674 -0.011862  1.004812  1.327195"
     },
     "execution_count": 133,
     "metadata": {},
     "output_type": "execute_result"
    }
   ],
   "source": [
    "columns = pd.MultiIndex.from_arrays(\n",
    "    [\n",
    "        ['US', 'US', 'US', 'JP', 'JP'],\n",
    "        [1, 3, 5, 1, 3]\n",
    "    ],\n",
    "    names=['cty', 'tenor']\n",
    ")\n",
    "hier_df = DataFrame(np.random.randn(4, 5), columns=columns)\n",
    "hier_df"
   ]
  },
  {
   "cell_type": "code",
   "execution_count": 134,
   "metadata": {
    "collapsed": false
   },
   "outputs": [
    {
     "data": {
      "text/plain": "cty  JP  US\n0     2   3\n1     2   3\n2     2   3\n3     2   3"
     },
     "execution_count": 134,
     "metadata": {},
     "output_type": "execute_result"
    }
   ],
   "source": [
    "hier_df.groupby(level='cty', axis=1).count()"
   ]
  },
  {
   "cell_type": "markdown",
   "metadata": {},
   "source": [
    "## Data aggregation"
   ]
  },
  {
   "cell_type": "code",
   "execution_count": 135,
   "metadata": {
    "collapsed": false
   },
   "outputs": [
    {
     "data": {
      "text/plain": "  key1 key2     data1     data2\n0    a  one -0.204708  1.393406\n1    a  two  0.478943  0.092908\n2    b  one -0.519439  0.281746\n3    b  two -0.555730  0.769023\n4    a  one  1.965781  1.246435"
     },
     "execution_count": 135,
     "metadata": {},
     "output_type": "execute_result"
    }
   ],
   "source": [
    "df"
   ]
  },
  {
   "cell_type": "code",
   "execution_count": 136,
   "metadata": {
    "collapsed": false
   },
   "outputs": [
    {
     "data": {
      "text/plain": "key1\na    1.668413\nb   -0.523068\nName: data1, dtype: float64"
     },
     "execution_count": 136,
     "metadata": {},
     "output_type": "execute_result"
    }
   ],
   "source": [
    "grouped = df.groupby('key1')\n",
    "grouped['data1'].quantile(0.9)"
   ]
  },
  {
   "cell_type": "code",
   "execution_count": 137,
   "metadata": {
    "collapsed": false
   },
   "outputs": [
    {
     "data": {
      "text/plain": "         data1     data2\nkey1                    \na     2.170488  1.300498\nb     0.036292  0.487276"
     },
     "execution_count": 137,
     "metadata": {},
     "output_type": "execute_result"
    }
   ],
   "source": [
    "# Custom aggregate function\n",
    "def peak_to_peak(arr):\n",
    "    return arr.max() - arr.min()\n",
    "grouped.agg(peak_to_peak)"
   ]
  },
  {
   "cell_type": "code",
   "execution_count": 138,
   "metadata": {
    "collapsed": false
   },
   "outputs": [
    {
     "data": {
      "text/plain": "     data1                                                              \\\n     count      mean       std       min       25%       50%       75%   \nkey1                                                                     \na      3.0  0.746672  1.109736 -0.204708  0.137118  0.478943  1.222362   \nb      2.0 -0.537585  0.025662 -0.555730 -0.546657 -0.537585 -0.528512   \n\n               data2                                                    \\\n           max count      mean       std       min       25%       50%   \nkey1                                                                     \na     1.965781   3.0  0.910916  0.712217  0.092908  0.669671  1.246435   \nb    -0.519439   2.0  0.525384  0.344556  0.281746  0.403565  0.525384   \n\n                          \n           75%       max  \nkey1                      \na     1.319920  1.393406  \nb     0.647203  0.769023  "
     },
     "execution_count": 138,
     "metadata": {},
     "output_type": "execute_result"
    }
   ],
   "source": [
    "grouped.describe()"
   ]
  },
  {
   "cell_type": "code",
   "execution_count": 139,
   "metadata": {
    "collapsed": false
   },
   "outputs": [
    {
     "data": {
      "text/plain": "   total_bill   tip     sex smoker  day    time  size   tip_pct\n0       16.99  1.01  Female     No  Sun  Dinner     2  0.059447\n1       10.34  1.66    Male     No  Sun  Dinner     3  0.160542\n2       21.01  3.50    Male     No  Sun  Dinner     3  0.166587\n3       23.68  3.31    Male     No  Sun  Dinner     2  0.139780\n4       24.59  3.61  Female     No  Sun  Dinner     4  0.146808\n5       25.29  4.71    Male     No  Sun  Dinner     4  0.186240"
     },
     "execution_count": 139,
     "metadata": {},
     "output_type": "execute_result"
    }
   ],
   "source": [
    "tips = pd.read_csv('data/visual/tips.csv')\n",
    "# Add tip percentage of total bill\n",
    "tips['tip_pct'] = tips['tip'] / tips['total_bill']\n",
    "tips[:6]"
   ]
  },
  {
   "cell_type": "markdown",
   "metadata": {},
   "source": [
    "### Column-wise and multiple function application"
   ]
  },
  {
   "cell_type": "code",
   "execution_count": 140,
   "metadata": {
    "collapsed": false
   },
   "outputs": [],
   "source": [
    "grouped = tips.groupby(['sex', 'smoker'])"
   ]
  },
  {
   "cell_type": "code",
   "execution_count": 141,
   "metadata": {
    "collapsed": false
   },
   "outputs": [
    {
     "data": {
      "text/plain": "sex     smoker\nFemale  No        0.156921\n        Yes       0.182150\nMale    No        0.160669\n        Yes       0.152771\nName: tip_pct, dtype: float64"
     },
     "execution_count": 141,
     "metadata": {},
     "output_type": "execute_result"
    }
   ],
   "source": [
    "# NB! Name of function can passed like string\n",
    "grouped_pct = grouped['tip_pct']\n",
    "grouped_pct.agg('mean')\n",
    "# grouped_pct.agg(np.mean)"
   ]
  },
  {
   "cell_type": "code",
   "execution_count": 142,
   "metadata": {
    "collapsed": false
   },
   "outputs": [
    {
     "data": {
      "text/plain": "                   mean       std  peak_to_peak\nsex    smoker                                  \nFemale No      0.156921  0.036421      0.195876\n       Yes     0.182150  0.071595      0.360233\nMale   No      0.160669  0.041849      0.220186\n       Yes     0.152771  0.090588      0.674707"
     },
     "execution_count": 142,
     "metadata": {},
     "output_type": "execute_result"
    }
   ],
   "source": [
    "grouped_pct.agg(['mean', 'std', peak_to_peak])"
   ]
  },
  {
   "cell_type": "code",
   "execution_count": 143,
   "metadata": {
    "collapsed": false
   },
   "outputs": [
    {
     "data": {
      "text/plain": "                    foo       bar\nsex    smoker                    \nFemale No      0.156921  0.036421\n       Yes     0.182150  0.071595\nMale   No      0.160669  0.041849\n       Yes     0.152771  0.090588"
     },
     "execution_count": 143,
     "metadata": {},
     "output_type": "execute_result"
    }
   ],
   "source": [
    "# Custom name of columns instead func name\n",
    "grouped_pct.agg([('foo', 'mean'), ('bar', np.std)])"
   ]
  },
  {
   "cell_type": "code",
   "execution_count": 144,
   "metadata": {
    "collapsed": false
   },
   "outputs": [
    {
     "name": "stderr",
     "output_type": "stream",
     "text": [
      "<ipython-input-144-e5c9b67a0c1c>:2: FutureWarning: Indexing with multiple keys (implicitly converted to a tuple of keys) will be deprecated, use a list instead.\n",
      "  result = grouped['tip_pct', 'total_bill'].agg(functions)\n"
     ]
    },
    {
     "data": {
      "text/plain": "              tip_pct                     total_bill                  \n                count      mean       max      count       mean    max\nsex    smoker                                                         \nFemale No          54  0.156921  0.252672         54  18.105185  35.83\n       Yes         33  0.182150  0.416667         33  17.977879  44.30\nMale   No          97  0.160669  0.291990         97  19.791237  48.33\n       Yes         60  0.152771  0.710345         60  22.284500  50.81"
     },
     "execution_count": 144,
     "metadata": {},
     "output_type": "execute_result"
    }
   ],
   "source": [
    "functions = ['count', 'mean', 'max']\n",
    "result = grouped['tip_pct', 'total_bill'].agg(functions)\n",
    "result"
   ]
  },
  {
   "cell_type": "code",
   "execution_count": 145,
   "metadata": {
    "collapsed": false
   },
   "outputs": [
    {
     "data": {
      "text/plain": "               count      mean       max\nsex    smoker                           \nFemale No         54  0.156921  0.252672\n       Yes        33  0.182150  0.416667\nMale   No         97  0.160669  0.291990\n       Yes        60  0.152771  0.710345"
     },
     "execution_count": 145,
     "metadata": {},
     "output_type": "execute_result"
    }
   ],
   "source": [
    "result['tip_pct']"
   ]
  },
  {
   "cell_type": "code",
   "execution_count": 146,
   "metadata": {
    "collapsed": false
   },
   "outputs": [
    {
     "name": "stderr",
     "output_type": "stream",
     "text": [
      "<ipython-input-146-059d91aa9a76>:2: FutureWarning: Indexing with multiple keys (implicitly converted to a tuple of keys) will be deprecated, use a list instead.\n",
      "  grouped['tip_pct', 'total_bill'].agg(ftuples)\n"
     ]
    },
    {
     "data": {
      "text/plain": "                   tip_pct              total_bill           \n              Durchschnitt Abweichung Durchschnitt Abweichung\nsex    smoker                                                \nFemale No         0.156921   0.001327    18.105185  53.092422\n       Yes        0.182150   0.005126    17.977879  84.451517\nMale   No         0.160669   0.001751    19.791237  76.152961\n       Yes        0.152771   0.008206    22.284500  98.244673"
     },
     "execution_count": 146,
     "metadata": {},
     "output_type": "execute_result"
    }
   ],
   "source": [
    "ftuples = [('Durchschnitt', 'mean'), ('Abweichung', np.var)]\n",
    "grouped['tip_pct', 'total_bill'].agg(ftuples)"
   ]
  },
  {
   "cell_type": "code",
   "execution_count": 147,
   "metadata": {
    "collapsed": false
   },
   "outputs": [
    {
     "data": {
      "text/plain": "                tip  size\nsex    smoker            \nFemale No       5.2   140\n       Yes      6.5    74\nMale   No       9.0   263\n       Yes     10.0   150"
     },
     "execution_count": 147,
     "metadata": {},
     "output_type": "execute_result"
    }
   ],
   "source": [
    "grouped.agg({'tip' : np.max, 'size' : 'sum'})"
   ]
  },
  {
   "cell_type": "code",
   "execution_count": 148,
   "metadata": {
    "collapsed": false
   },
   "outputs": [
    {
     "data": {
      "text/plain": "                tip_pct                               size\n                    min       max      mean       std  sum\nsex    smoker                                             \nFemale No      0.056797  0.252672  0.156921  0.036421  140\n       Yes     0.056433  0.416667  0.182150  0.071595   74\nMale   No      0.071804  0.291990  0.160669  0.041849  263\n       Yes     0.035638  0.710345  0.152771  0.090588  150"
     },
     "execution_count": 148,
     "metadata": {},
     "output_type": "execute_result"
    }
   ],
   "source": [
    "grouped.agg({\n",
    "    'tip_pct' : ['min', 'max', 'mean', 'std'],\n",
    "    'size' : 'sum'\n",
    "})"
   ]
  },
  {
   "cell_type": "markdown",
   "metadata": {},
   "source": [
    "### Returning aggregated data in \"unindexed\" form"
   ]
  },
  {
   "cell_type": "code",
   "execution_count": 149,
   "metadata": {
    "collapsed": false
   },
   "outputs": [
    {
     "data": {
      "text/plain": "      sex smoker  total_bill       tip      size   tip_pct\n0  Female     No   18.105185  2.773519  2.592593  0.156921\n1  Female    Yes   17.977879  2.931515  2.242424  0.182150\n2    Male     No   19.791237  3.113402  2.711340  0.160669\n3    Male    Yes   22.284500  3.051167  2.500000  0.152771"
     },
     "execution_count": 149,
     "metadata": {},
     "output_type": "execute_result"
    }
   ],
   "source": [
    "tips.groupby(['sex', 'smoker'], as_index=False).mean()"
   ]
  },
  {
   "cell_type": "markdown",
   "metadata": {},
   "source": [
    "## Group-wise operations and transformations"
   ]
  },
  {
   "cell_type": "code",
   "execution_count": 150,
   "metadata": {
    "collapsed": false
   },
   "outputs": [
    {
     "data": {
      "text/plain": "  key1 key2     data1     data2\n0    a  one -0.204708  1.393406\n1    a  two  0.478943  0.092908\n2    b  one -0.519439  0.281746\n3    b  two -0.555730  0.769023\n4    a  one  1.965781  1.246435"
     },
     "execution_count": 150,
     "metadata": {},
     "output_type": "execute_result"
    }
   ],
   "source": [
    "df"
   ]
  },
  {
   "cell_type": "code",
   "execution_count": 151,
   "metadata": {
    "collapsed": false
   },
   "outputs": [
    {
     "data": {
      "text/plain": "      mean_data1  mean_data2\nkey1                        \na       0.746672    0.910916\nb      -0.537585    0.525384"
     },
     "execution_count": 151,
     "metadata": {},
     "output_type": "execute_result"
    }
   ],
   "source": [
    "k1_means = df.groupby('key1').mean().add_prefix('mean_')\n",
    "k1_means"
   ]
  },
  {
   "cell_type": "code",
   "execution_count": 152,
   "metadata": {
    "collapsed": false
   },
   "outputs": [
    {
     "data": {
      "text/plain": "  key1 key2     data1     data2  mean_data1  mean_data2\n0    a  one -0.204708  1.393406    0.746672    0.910916\n1    a  two  0.478943  0.092908    0.746672    0.910916\n4    a  one  1.965781  1.246435    0.746672    0.910916\n2    b  one -0.519439  0.281746   -0.537585    0.525384\n3    b  two -0.555730  0.769023   -0.537585    0.525384"
     },
     "execution_count": 152,
     "metadata": {},
     "output_type": "execute_result"
    }
   ],
   "source": [
    "pd.merge(df, k1_means, left_on='key1', right_index=True)"
   ]
  },
  {
   "cell_type": "code",
   "execution_count": 153,
   "metadata": {
    "collapsed": false
   },
   "outputs": [
    {
     "data": {
      "text/plain": "            a         b         c         d         e\none -0.082032 -1.063687 -1.047620 -0.884358 -0.028309\ntwo  0.505275 -0.849512  0.075965  0.834983  0.452620"
     },
     "execution_count": 153,
     "metadata": {},
     "output_type": "execute_result"
    }
   ],
   "source": [
    "key = ['one', 'two', 'one', 'two', 'one']\n",
    "people.groupby(key).mean()"
   ]
  },
  {
   "cell_type": "code",
   "execution_count": 154,
   "metadata": {
    "collapsed": false
   },
   "outputs": [
    {
     "data": {
      "text/plain": "               a         b         c         d         e\nJoe    -0.082032 -1.063687 -1.047620 -0.884358 -0.028309\nSteve   0.505275 -0.849512  0.075965  0.834983  0.452620\nWes    -0.082032 -1.063687 -1.047620 -0.884358 -0.028309\nJim     0.505275 -0.849512  0.075965  0.834983  0.452620\nTravis -0.082032 -1.063687 -1.047620 -0.884358 -0.028309"
     },
     "execution_count": 154,
     "metadata": {},
     "output_type": "execute_result"
    }
   ],
   "source": [
    "people.groupby(key).transform(np.mean)"
   ]
  },
  {
   "cell_type": "code",
   "execution_count": 155,
   "metadata": {
    "collapsed": false
   },
   "outputs": [
    {
     "data": {
      "text/plain": "               a         b         c         d         e\nJoe     1.089221 -0.232534  1.322612  1.113271  1.381226\nSteve   0.381154 -1.152125 -0.447807  0.834043 -0.891190\nWes    -0.457709       NaN       NaN -0.136869 -0.548778\nJim    -0.381154  1.152125  0.447807 -0.834043  0.891190\nTravis -0.631512  0.232534 -1.322612 -0.976402 -0.832448"
     },
     "execution_count": 155,
     "metadata": {},
     "output_type": "execute_result"
    }
   ],
   "source": [
    "def demean(arr):\n",
    "    return arr - arr.mean()\n",
    "demeaned = people.groupby(key).transform(demean)\n",
    "demeaned"
   ]
  },
  {
   "cell_type": "code",
   "execution_count": 156,
   "metadata": {
    "collapsed": false
   },
   "outputs": [
    {
     "data": {
      "text/plain": "                a             b    c             d    e\none  0.000000e+00 -1.110223e-16  0.0  7.401487e-17  0.0\ntwo -2.775558e-17  0.000000e+00  0.0  0.000000e+00  0.0"
     },
     "execution_count": 156,
     "metadata": {},
     "output_type": "execute_result"
    }
   ],
   "source": [
    "demeaned.groupby(key).mean()"
   ]
  },
  {
   "cell_type": "markdown",
   "metadata": {},
   "source": [
    "### Apply: General split-apply-combine"
   ]
  },
  {
   "cell_type": "code",
   "execution_count": 157,
   "metadata": {
    "collapsed": false
   },
   "outputs": [
    {
     "data": {
      "text/plain": "     total_bill   tip     sex smoker  day    time  size   tip_pct\n109       14.31  4.00  Female    Yes  Sat  Dinner     2  0.279525\n183       23.17  6.50    Male    Yes  Sun  Dinner     4  0.280535\n232       11.61  3.39    Male     No  Sat  Dinner     2  0.291990\n67         3.07  1.00  Female    Yes  Sat  Dinner     1  0.325733\n178        9.60  4.00  Female    Yes  Sun  Dinner     2  0.416667\n172        7.25  5.15    Male    Yes  Sun  Dinner     2  0.710345"
     },
     "execution_count": 157,
     "metadata": {},
     "output_type": "execute_result"
    }
   ],
   "source": [
    "def top(df, n=5, column='tip_pct'):\n",
    "    return df.sort_values(by=column)[-n:]\n",
    "top(tips, n=6)"
   ]
  },
  {
   "cell_type": "code",
   "execution_count": 158,
   "metadata": {
    "collapsed": false
   },
   "outputs": [
    {
     "data": {
      "text/plain": "            total_bill   tip     sex smoker   day    time  size   tip_pct\nsmoker                                                                   \nNo     88        24.71  5.85    Male     No  Thur   Lunch     2  0.236746\n       185       20.69  5.00    Male     No   Sun  Dinner     5  0.241663\n       51        10.29  2.60  Female     No   Sun  Dinner     2  0.252672\n       149        7.51  2.00    Male     No  Thur   Lunch     2  0.266312\n       232       11.61  3.39    Male     No   Sat  Dinner     2  0.291990\nYes    109       14.31  4.00  Female    Yes   Sat  Dinner     2  0.279525\n       183       23.17  6.50    Male    Yes   Sun  Dinner     4  0.280535\n       67         3.07  1.00  Female    Yes   Sat  Dinner     1  0.325733\n       178        9.60  4.00  Female    Yes   Sun  Dinner     2  0.416667\n       172        7.25  5.15    Male    Yes   Sun  Dinner     2  0.710345"
     },
     "execution_count": 158,
     "metadata": {},
     "output_type": "execute_result"
    }
   ],
   "source": [
    "tips.groupby('smoker').apply(top)"
   ]
  },
  {
   "cell_type": "code",
   "execution_count": 159,
   "metadata": {
    "collapsed": false
   },
   "outputs": [
    {
     "data": {
      "text/plain": "                 total_bill    tip     sex smoker   day    time  size  \\\nsmoker day                                                              \nNo     Fri  94        22.75   3.25  Female     No   Fri  Dinner     2   \n       Sat  212       48.33   9.00    Male     No   Sat  Dinner     4   \n       Sun  156       48.17   5.00    Male     No   Sun  Dinner     6   \n       Thur 142       41.19   5.00    Male     No  Thur   Lunch     5   \nYes    Fri  95        40.17   4.73    Male    Yes   Fri  Dinner     4   \n       Sat  170       50.81  10.00    Male    Yes   Sat  Dinner     3   \n       Sun  182       45.35   3.50    Male    Yes   Sun  Dinner     3   \n       Thur 197       43.11   5.00  Female    Yes  Thur   Lunch     4   \n\n                  tip_pct  \nsmoker day                 \nNo     Fri  94   0.142857  \n       Sat  212  0.186220  \n       Sun  156  0.103799  \n       Thur 142  0.121389  \nYes    Fri  95   0.117750  \n       Sat  170  0.196812  \n       Sun  182  0.077178  \n       Thur 197  0.115982  "
     },
     "execution_count": 159,
     "metadata": {},
     "output_type": "execute_result"
    }
   ],
   "source": [
    "tips.groupby(['smoker', 'day']).apply(top, n=1, column='total_bill')"
   ]
  },
  {
   "cell_type": "code",
   "execution_count": 160,
   "metadata": {
    "collapsed": false
   },
   "outputs": [
    {
     "data": {
      "text/plain": "        count      mean       std       min       25%       50%       75%  \\\nsmoker                                                                      \nNo      151.0  0.159328  0.039910  0.056797  0.136906  0.155625  0.185014   \nYes      93.0  0.163196  0.085119  0.035638  0.106771  0.153846  0.195059   \n\n             max  \nsmoker            \nNo      0.291990  \nYes     0.710345  "
     },
     "execution_count": 160,
     "metadata": {},
     "output_type": "execute_result"
    }
   ],
   "source": [
    "result = tips.groupby('smoker')['tip_pct'].describe()\n",
    "result"
   ]
  },
  {
   "cell_type": "code",
   "execution_count": 161,
   "metadata": {
    "collapsed": false
   },
   "outputs": [
    {
     "data": {
      "text/plain": "       smoker\ncount  No        151.000000\n       Yes        93.000000\nmean   No          0.159328\n       Yes         0.163196\nstd    No          0.039910\n       Yes         0.085119\nmin    No          0.056797\n       Yes         0.035638\n25%    No          0.136906\n       Yes         0.106771\n50%    No          0.155625\n       Yes         0.153846\n75%    No          0.185014\n       Yes         0.195059\nmax    No          0.291990\n       Yes         0.710345\ndtype: float64"
     },
     "execution_count": 161,
     "metadata": {},
     "output_type": "execute_result"
    }
   ],
   "source": [
    "result.unstack('smoker')"
   ]
  },
  {
   "cell_type": "raw",
   "metadata": {},
   "source": [
    "describe()\n",
    "it's\n",
    "f = lambda x: x.describe()\n",
    "grouped.apply(f)"
   ]
  },
  {
   "cell_type": "code",
   "metadata": {
    "pycharm": {
     "name": "#%%\n"
    }
   },
   "source": [
    "# Suppressing the group keys\n",
    "tips.groupby('smoker', group_keys=False).apply(top)"
   ],
   "execution_count": 162,
   "outputs": [
    {
     "data": {
      "text/plain": "     total_bill   tip     sex smoker   day    time  size   tip_pct\n88        24.71  5.85    Male     No  Thur   Lunch     2  0.236746\n185       20.69  5.00    Male     No   Sun  Dinner     5  0.241663\n51        10.29  2.60  Female     No   Sun  Dinner     2  0.252672\n149        7.51  2.00    Male     No  Thur   Lunch     2  0.266312\n232       11.61  3.39    Male     No   Sat  Dinner     2  0.291990\n109       14.31  4.00  Female    Yes   Sat  Dinner     2  0.279525\n183       23.17  6.50    Male    Yes   Sun  Dinner     4  0.280535\n67         3.07  1.00  Female    Yes   Sat  Dinner     1  0.325733\n178        9.60  4.00  Female    Yes   Sun  Dinner     2  0.416667\n172        7.25  5.15    Male    Yes   Sun  Dinner     2  0.710345"
     },
     "execution_count": 162,
     "metadata": {},
     "output_type": "execute_result"
    }
   ]
  },
  {
   "cell_type": "markdown",
   "metadata": {},
   "source": [
    "### Quantile and bucket analysis"
   ]
  },
  {
   "cell_type": "code",
   "execution_count": 163,
   "metadata": {
    "collapsed": false
   },
   "outputs": [
    {
     "data": {
      "text/plain": "0     (-1.23, 0.489]\n1    (-2.956, -1.23]\n2     (-1.23, 0.489]\n3     (0.489, 2.208]\n4     (-1.23, 0.489]\n5     (0.489, 2.208]\n6     (-1.23, 0.489]\n7     (-1.23, 0.489]\n8     (0.489, 2.208]\n9     (0.489, 2.208]\nName: data1, dtype: category\nCategories (4, interval[float64]): [(-2.956, -1.23] < (-1.23, 0.489] < (0.489, 2.208] < (2.208, 3.928]]"
     },
     "execution_count": 163,
     "metadata": {},
     "output_type": "execute_result"
    }
   ],
   "source": [
    "# Put to \"box\" with same length\n",
    "frame = DataFrame({\n",
    "    'data1': np.random.randn(1000),\n",
    "    'data2': np.random.randn(1000)\n",
    "})\n",
    "factor = pd.cut(frame.data1, 4)\n",
    "factor[:10]"
   ]
  },
  {
   "cell_type": "code",
   "execution_count": 164,
   "metadata": {
    "collapsed": false
   },
   "outputs": [
    {
     "data": {
      "text/plain": "                      min       max  count      mean\ndata1                                               \n(-2.956, -1.23] -3.399312  1.670835   95.0 -0.039521\n(-1.23, 0.489]  -2.989741  3.260383  598.0 -0.002051\n(0.489, 2.208]  -3.745356  2.954439  297.0  0.081822\n(2.208, 3.928]  -1.929776  1.765640   10.0  0.024750"
     },
     "execution_count": 164,
     "metadata": {},
     "output_type": "execute_result"
    }
   ],
   "source": [
    "def get_stats(group):\n",
    "    return {\n",
    "        'min': group.min(), 'max': group.max(),\n",
    "        'count': group.count(), 'mean': group.mean()\n",
    "    }\n",
    "\n",
    "grouped = frame.data2.groupby(factor)\n",
    "grouped.apply(get_stats).unstack()\n",
    "\n",
    "#ADAPT the output is not sorted in the book while this is the case now (swap first two lines)"
   ]
  },
  {
   "cell_type": "code",
   "execution_count": 165,
   "metadata": {
    "collapsed": false
   },
   "outputs": [
    {
     "data": {
      "text/plain": "            min       max  count      mean\ndata1                                     \n0     -3.399312  1.670835  100.0 -0.049902\n1     -1.950098  2.628441  100.0  0.030989\n2     -2.925113  2.527939  100.0 -0.067179\n3     -2.315555  3.260383  100.0  0.065713\n4     -2.047939  2.074345  100.0 -0.111653\n5     -2.989741  2.184810  100.0  0.052130\n6     -2.223506  2.458842  100.0 -0.021489\n7     -3.056990  2.954439  100.0 -0.026459\n8     -3.745356  2.735527  100.0  0.103406\n9     -2.064111  2.377020  100.0  0.220122"
     },
     "execution_count": 165,
     "metadata": {},
     "output_type": "execute_result"
    }
   ],
   "source": [
    "# Return quantile numbers\n",
    "grouping = pd.qcut(frame.data1, 10, labels=False)\n",
    "\n",
    "grouped = frame.data2.groupby(grouping)\n",
    "grouped.apply(get_stats).unstack()"
   ]
  },
  {
   "cell_type": "markdown",
   "metadata": {},
   "source": [
    "### Example: Filling missing values with group-specific values"
   ]
  },
  {
   "cell_type": "code",
   "execution_count": 166,
   "metadata": {
    "collapsed": false
   },
   "outputs": [
    {
     "data": {
      "text/plain": "0         NaN\n1   -0.125921\n2         NaN\n3   -0.884475\n4         NaN\n5    0.227290\ndtype: float64"
     },
     "execution_count": 166,
     "metadata": {},
     "output_type": "execute_result"
    }
   ],
   "source": [
    "s = Series(np.random.randn(6))\n",
    "s[::2] = np.nan\n",
    "s"
   ]
  },
  {
   "cell_type": "code",
   "execution_count": 167,
   "metadata": {
    "collapsed": false
   },
   "outputs": [
    {
     "data": {
      "text/plain": "0   -0.261035\n1   -0.125921\n2   -0.261035\n3   -0.884475\n4   -0.261035\n5    0.227290\ndtype: float64"
     },
     "execution_count": 167,
     "metadata": {},
     "output_type": "execute_result"
    }
   ],
   "source": [
    "s.fillna(s.mean())"
   ]
  },
  {
   "cell_type": "code",
   "execution_count": 168,
   "metadata": {
    "collapsed": false
   },
   "outputs": [
    {
     "data": {
      "text/plain": "Ohio          0.922264\nNew York     -2.153545\nVermont            NaN\nFlorida      -0.375842\nOregon        0.329939\nNevada             NaN\nCalifornia    1.105913\nIdaho              NaN\ndtype: float64"
     },
     "execution_count": 168,
     "metadata": {},
     "output_type": "execute_result"
    }
   ],
   "source": [
    "states = [\n",
    "    'Ohio', 'New York', 'Vermont', 'Florida',\n",
    "    'Oregon', 'Nevada', 'California', 'Idaho'\n",
    "]\n",
    "group_key = ['East'] * 4 + ['West'] * 4\n",
    "data = Series(np.random.randn(8), index=states)\n",
    "data[['Vermont', 'Nevada', 'Idaho']] = np.nan\n",
    "data"
   ]
  },
  {
   "cell_type": "code",
   "execution_count": 169,
   "metadata": {
    "collapsed": false
   },
   "outputs": [
    {
     "data": {
      "text/plain": "East   -0.535707\nWest    0.717926\ndtype: float64"
     },
     "execution_count": 169,
     "metadata": {},
     "output_type": "execute_result"
    }
   ],
   "source": [
    "data.groupby(group_key).mean()"
   ]
  },
  {
   "cell_type": "code",
   "execution_count": 170,
   "metadata": {
    "collapsed": false
   },
   "outputs": [
    {
     "data": {
      "text/plain": "Ohio          0.922264\nNew York     -2.153545\nVermont      -0.535707\nFlorida      -0.375842\nOregon        0.329939\nNevada        0.717926\nCalifornia    1.105913\nIdaho         0.717926\ndtype: float64"
     },
     "execution_count": 170,
     "metadata": {},
     "output_type": "execute_result"
    }
   ],
   "source": [
    "fill_mean = lambda g: g.fillna(g.mean())\n",
    "data.groupby(group_key).apply(fill_mean)"
   ]
  },
  {
   "cell_type": "code",
   "execution_count": 171,
   "metadata": {
    "collapsed": false
   },
   "outputs": [
    {
     "data": {
      "text/plain": "Ohio          0.922264\nNew York     -2.153545\nVermont       0.500000\nFlorida      -0.375842\nOregon        0.329939\nNevada       -1.000000\nCalifornia    1.105913\nIdaho        -1.000000\ndtype: float64"
     },
     "execution_count": 171,
     "metadata": {},
     "output_type": "execute_result"
    }
   ],
   "source": [
    "fill_values = {'East': 0.5, 'West': -1}\n",
    "fill_func = lambda g: g.fillna(fill_values[g.name])\n",
    "\n",
    "data.groupby(group_key).apply(fill_func)"
   ]
  },
  {
   "cell_type": "markdown",
   "metadata": {},
   "source": [
    "### Example: Random sampling and permutation"
   ]
  },
  {
   "cell_type": "code",
   "execution_count": 172,
   "metadata": {
    "collapsed": false
   },
   "outputs": [],
   "source": [
    "# Hearts, Spades, Clubs, Diamonds\n",
    "suits = ['H', 'S', 'C', 'D']\n",
    "card_val = (list(range(1, 11)) + [10] * 3) * 4\n",
    "base_names = ['A'] + list(range(2, 11)) + ['J', 'K', 'Q']\n",
    "cards = []\n",
    "for suit in ['H', 'S', 'C', 'D']:\n",
    "    cards.extend(str(num) + suit for num in base_names)\n",
    "\n",
    "deck = Series(card_val, index=cards)"
   ]
  },
  {
   "cell_type": "code",
   "execution_count": 173,
   "metadata": {
    "collapsed": false
   },
   "outputs": [
    {
     "data": {
      "text/plain": "AH      1\n2H      2\n3H      3\n4H      4\n5H      5\n6H      6\n7H      7\n8H      8\n9H      9\n10H    10\nJH     10\nKH     10\nQH     10\ndtype: int64"
     },
     "execution_count": 173,
     "metadata": {},
     "output_type": "execute_result"
    }
   ],
   "source": [
    "deck[:13]"
   ]
  },
  {
   "cell_type": "code",
   "execution_count": 174,
   "metadata": {
    "collapsed": false
   },
   "outputs": [
    {
     "data": {
      "text/plain": "AD     1\n8C     8\n5H     5\nKC    10\n2C     2\ndtype: int64"
     },
     "execution_count": 174,
     "metadata": {},
     "output_type": "execute_result"
    }
   ],
   "source": [
    "def draw(deck, n=5):\n",
    "    return deck.take(np.random.permutation(len(deck))[:n])\n",
    "draw(deck)"
   ]
  },
  {
   "cell_type": "code",
   "execution_count": 175,
   "metadata": {
    "collapsed": false
   },
   "outputs": [
    {
     "data": {
      "text/plain": "C  2C     2\n   3C     3\nD  KD    10\n   8D     8\nH  KH    10\n   3H     3\nS  2S     2\n   4S     4\ndtype: int64"
     },
     "execution_count": 175,
     "metadata": {},
     "output_type": "execute_result"
    }
   ],
   "source": [
    "get_suit = lambda card: card[-1] # last letter is suit\n",
    "deck.groupby(get_suit).apply(draw, n=2)"
   ]
  },
  {
   "cell_type": "code",
   "execution_count": 176,
   "metadata": {
    "collapsed": false
   },
   "outputs": [
    {
     "data": {
      "text/plain": "KC    10\nJC    10\nAD     1\n5D     5\n5H     5\n6H     6\n7S     7\nKS    10\ndtype: int64"
     },
     "execution_count": 176,
     "metadata": {},
     "output_type": "execute_result"
    }
   ],
   "source": [
    "# alternatively\n",
    "deck.groupby(get_suit, group_keys=False).apply(draw, n=2)"
   ]
  },
  {
   "cell_type": "markdown",
   "metadata": {},
   "source": [
    "### Example: Group weighted average and correlation"
   ]
  },
  {
   "cell_type": "code",
   "execution_count": 177,
   "metadata": {
    "collapsed": false
   },
   "outputs": [
    {
     "data": {
      "text/plain": "  category      data   weights\n0        a  1.561587  0.957515\n1        a  1.219984  0.347267\n2        a -0.482239  0.581362\n3        a  0.315667  0.217091\n4        b -0.047852  0.894406\n5        b -0.454145  0.918564\n6        b -0.556774  0.277825\n7        b  0.253321  0.955905"
     },
     "execution_count": 177,
     "metadata": {},
     "output_type": "execute_result"
    }
   ],
   "source": [
    "df = DataFrame({\n",
    "    'category': ['a', 'a', 'a', 'a', 'b', 'b', 'b', 'b'],\n",
    "    'data': np.random.randn(8),\n",
    "    'weights': np.random.rand(8)\n",
    "})\n",
    "df"
   ]
  },
  {
   "cell_type": "code",
   "execution_count": 178,
   "metadata": {
    "collapsed": false
   },
   "outputs": [
    {
     "data": {
      "text/plain": "category\na    0.811643\nb   -0.122262\ndtype: float64"
     },
     "execution_count": 178,
     "metadata": {},
     "output_type": "execute_result"
    }
   ],
   "source": [
    "grouped = df.groupby('category')\n",
    "get_wavg = lambda g: np.average(g['data'], weights=g['weights'])\n",
    "grouped.apply(get_wavg)"
   ]
  },
  {
   "cell_type": "code",
   "execution_count": 179,
   "outputs": [
    {
     "name": "stdout",
     "output_type": "stream",
     "text": [
      "<class 'pandas.core.frame.DataFrame'>\n",
      "DatetimeIndex: 2214 entries, 2003-01-02 to 2011-10-14\n",
      "Data columns (total 4 columns):\n",
      " #   Column  Non-Null Count  Dtype  \n",
      "---  ------  --------------  -----  \n",
      " 0   AAPL    2214 non-null   float64\n",
      " 1   MSFT    2214 non-null   float64\n",
      " 2   XOM     2214 non-null   float64\n",
      " 3   SPX     2214 non-null   float64\n",
      "dtypes: float64(4)\n",
      "memory usage: 86.5 KB\n"
     ]
    }
   ],
   "source": [
    "close_px = pd.read_csv('data/agg_group/stock_px.csv', parse_dates=True, index_col=0)\n",
    "close_px.info()"
   ],
   "metadata": {
    "collapsed": false,
    "pycharm": {
     "name": "#%%\n"
    }
   }
  },
  {
   "cell_type": "code",
   "execution_count": 180,
   "outputs": [
    {
     "data": {
      "text/plain": "              AAPL   MSFT    XOM      SPX\n2011-10-11  400.29  27.00  76.27  1195.54\n2011-10-12  402.19  26.96  77.16  1207.25\n2011-10-13  408.43  27.18  76.37  1203.66\n2011-10-14  422.00  27.27  78.11  1224.58"
     },
     "execution_count": 180,
     "metadata": {},
     "output_type": "execute_result"
    }
   ],
   "source": [
    "close_px[-4:]"
   ],
   "metadata": {
    "collapsed": false,
    "pycharm": {
     "name": "#%%\n"
    }
   }
  },
  {
   "cell_type": "code",
   "execution_count": 181,
   "outputs": [
    {
     "data": {
      "text/plain": "          AAPL      MSFT       XOM  SPX\n2003  0.541124  0.745174  0.661265  1.0\n2004  0.374283  0.588531  0.557742  1.0\n2005  0.467540  0.562374  0.631010  1.0\n2006  0.428267  0.406126  0.518514  1.0\n2007  0.508118  0.658770  0.786264  1.0\n2008  0.681434  0.804626  0.828303  1.0\n2009  0.707103  0.654902  0.797921  1.0\n2010  0.710105  0.730118  0.839057  1.0\n2011  0.691931  0.800996  0.859975  1.0"
     },
     "execution_count": 181,
     "metadata": {},
     "output_type": "execute_result"
    }
   ],
   "source": [
    "rets = close_px.pct_change().dropna()\n",
    "spx_corr = lambda x: x.corrwith(x['SPX'])\n",
    "by_year = rets.groupby(lambda x: x.year)\n",
    "by_year.apply(spx_corr)"
   ],
   "metadata": {
    "collapsed": false,
    "pycharm": {
     "name": "#%%\n"
    }
   }
  },
  {
   "cell_type": "code",
   "execution_count": 182,
   "outputs": [
    {
     "data": {
      "text/plain": "2003    0.480868\n2004    0.259024\n2005    0.300093\n2006    0.161735\n2007    0.417738\n2008    0.611901\n2009    0.432738\n2010    0.571946\n2011    0.581987\ndtype: float64"
     },
     "execution_count": 182,
     "metadata": {},
     "output_type": "execute_result"
    }
   ],
   "source": [
    "# Annual correlation of Apple with Microsoft\n",
    "by_year.apply(lambda g: g['AAPL'].corr(g['MSFT']))"
   ],
   "metadata": {
    "collapsed": false,
    "pycharm": {
     "name": "#%%\n"
    }
   }
  },
  {
   "cell_type": "markdown",
   "source": [
    "### Example: Group-wise linear regression"
   ],
   "metadata": {
    "collapsed": false
   }
  },
  {
   "cell_type": "markdown",
   "metadata": {},
   "source": [
    "## Pivot tables and Cross-tabulation"
   ]
  },
  {
   "cell_type": "code",
   "execution_count": 183,
   "metadata": {
    "collapsed": false
   },
   "outputs": [
    {
     "data": {
      "text/plain": "                   size       tip   tip_pct  total_bill\nsex    smoker                                          \nFemale No      2.592593  2.773519  0.156921   18.105185\n       Yes     2.242424  2.931515  0.182150   17.977879\nMale   No      2.711340  3.113402  0.160669   19.791237\n       Yes     2.500000  3.051167  0.152771   22.284500"
     },
     "execution_count": 183,
     "metadata": {},
     "output_type": "execute_result"
    }
   ],
   "source": [
    "tips.pivot_table(index=['sex', 'smoker'])"
   ]
  },
  {
   "cell_type": "code",
   "execution_count": 184,
   "metadata": {
    "collapsed": false
   },
   "outputs": [
    {
     "data": {
      "text/plain": "                 size             tip_pct          \nsmoker             No       Yes        No       Yes\nsex    day                                         \nFemale Fri   2.500000  2.000000  0.165296  0.209129\n       Sat   2.307692  2.200000  0.147993  0.163817\n       Sun   3.071429  2.500000  0.165710  0.237075\n       Thur  2.480000  2.428571  0.155971  0.163073\nMale   Fri   2.000000  2.125000  0.138005  0.144730\n       Sat   2.656250  2.629630  0.162132  0.139067\n       Sun   2.883721  2.600000  0.158291  0.173964\n       Thur  2.500000  2.300000  0.165706  0.164417"
     },
     "execution_count": 184,
     "metadata": {},
     "output_type": "execute_result"
    }
   ],
   "source": [
    "tips.pivot_table(\n",
    "    ['tip_pct', 'size'],\n",
    "    index=['sex', 'day'],\n",
    "    columns='smoker'\n",
    ")"
   ]
  },
  {
   "cell_type": "code",
   "execution_count": 185,
   "metadata": {
    "collapsed": false
   },
   "outputs": [
    {
     "data": {
      "text/plain": "                 size                       tip_pct                    \nsmoker             No       Yes       All        No       Yes       All\nsex    day                                                             \nFemale Fri   2.500000  2.000000  2.111111  0.165296  0.209129  0.199388\n       Sat   2.307692  2.200000  2.250000  0.147993  0.163817  0.156470\n       Sun   3.071429  2.500000  2.944444  0.165710  0.237075  0.181569\n       Thur  2.480000  2.428571  2.468750  0.155971  0.163073  0.157525\nMale   Fri   2.000000  2.125000  2.100000  0.138005  0.144730  0.143385\n       Sat   2.656250  2.629630  2.644068  0.162132  0.139067  0.151577\n       Sun   2.883721  2.600000  2.810345  0.158291  0.173964  0.162344\n       Thur  2.500000  2.300000  2.433333  0.165706  0.164417  0.165276\nAll          2.668874  2.408602  2.569672  0.159328  0.163196  0.160803"
     },
     "execution_count": 185,
     "metadata": {},
     "output_type": "execute_result"
    }
   ],
   "source": [
    "tips.pivot_table(\n",
    "    ['tip_pct', 'size'],\n",
    "    index=['sex', 'day'],\n",
    "    columns='smoker',\n",
    "    margins=True\n",
    ")"
   ]
  },
  {
   "cell_type": "code",
   "execution_count": 186,
   "metadata": {
    "collapsed": false
   },
   "outputs": [
    {
     "data": {
      "text/plain": "day             Fri   Sat   Sun  Thur    All\nsex    smoker                               \nFemale No       2.0  13.0  14.0  25.0   54.0\n       Yes      7.0  15.0   4.0   7.0   33.0\nMale   No       2.0  32.0  43.0  20.0   97.0\n       Yes      8.0  27.0  15.0  10.0   60.0\nAll            19.0  87.0  76.0  62.0  244.0"
     },
     "execution_count": 186,
     "metadata": {},
     "output_type": "execute_result"
    }
   ],
   "source": [
    "tips.pivot_table(\n",
    "    'tip_pct',\n",
    "    index=['sex', 'smoker'],\n",
    "    columns='day',\n",
    "    aggfunc=len,\n",
    "    margins=True\n",
    ")"
   ]
  },
  {
   "cell_type": "code",
   "execution_count": 187,
   "metadata": {
    "collapsed": false
   },
   "outputs": [
    {
     "data": {
      "text/plain": "day                   Fri  Sat  Sun  Thur\ntime   sex    smoker                     \nDinner Female No        2   30   43     2\n              Yes       8   33   10     0\n       Male   No        4   85  124     0\n              Yes      12   71   39     0\nLunch  Female No        3    0    0    60\n              Yes       6    0    0    17\n       Male   No        0    0    0    50\n              Yes       5    0    0    23"
     },
     "execution_count": 187,
     "metadata": {},
     "output_type": "execute_result"
    }
   ],
   "source": [
    "tips.pivot_table(\n",
    "    'size',\n",
    "    index=['time', 'sex', 'smoker'],\n",
    "    columns='day',\n",
    "    aggfunc='sum',\n",
    "    fill_value=0\n",
    ")"
   ]
  },
  {
   "cell_type": "markdown",
   "metadata": {},
   "source": [
    "### Cross-tabulations: crosstab"
   ]
  },
  {
   "cell_type": "code",
   "execution_count": 188,
   "metadata": {
    "collapsed": false
   },
   "outputs": [],
   "source": [
    "try:\n",
    "    from StringIO import StringIO ## for Python 2\n",
    "except ImportError:\n",
    "    from io import StringIO\n",
    "data = \"\"\"\\\n",
    "Sample    Gender    Handedness\n",
    "1    Female    Right-handed\n",
    "2    Male    Left-handed\n",
    "3    Female    Right-handed\n",
    "4    Male    Right-handed\n",
    "5    Male    Left-handed\n",
    "6    Male    Right-handed\n",
    "7    Female    Right-handed\n",
    "8    Female    Left-handed\n",
    "9    Male    Right-handed\n",
    "10    Female    Right-handed\"\"\"\n",
    "data = pd.read_table(StringIO(data), sep='\\s+')"
   ]
  },
  {
   "cell_type": "code",
   "execution_count": 189,
   "metadata": {
    "collapsed": false
   },
   "outputs": [
    {
     "data": {
      "text/plain": "   Sample  Gender    Handedness\n0       1  Female  Right-handed\n1       2    Male   Left-handed\n2       3  Female  Right-handed\n3       4    Male  Right-handed\n4       5    Male   Left-handed\n5       6    Male  Right-handed\n6       7  Female  Right-handed\n7       8  Female   Left-handed\n8       9    Male  Right-handed\n9      10  Female  Right-handed"
     },
     "execution_count": 189,
     "metadata": {},
     "output_type": "execute_result"
    }
   ],
   "source": [
    "data"
   ]
  },
  {
   "cell_type": "code",
   "execution_count": 190,
   "metadata": {
    "collapsed": false
   },
   "outputs": [
    {
     "data": {
      "text/plain": "Handedness  Left-handed  Right-handed  All\nGender                                    \nFemale                1             4    5\nMale                  2             3    5\nAll                   3             7   10"
     },
     "execution_count": 190,
     "metadata": {},
     "output_type": "execute_result"
    }
   ],
   "source": [
    "pd.crosstab(data.Gender, data.Handedness, margins=True)"
   ]
  },
  {
   "cell_type": "code",
   "execution_count": 191,
   "metadata": {
    "collapsed": false
   },
   "outputs": [
    {
     "data": {
      "text/plain": "smoker        No  Yes  All\ntime   day                \nDinner Fri     3    9   12\n       Sat    45   42   87\n       Sun    57   19   76\n       Thur    1    0    1\nLunch  Fri     1    6    7\n       Thur   44   17   61\nAll          151   93  244"
     },
     "execution_count": 191,
     "metadata": {},
     "output_type": "execute_result"
    }
   ],
   "source": [
    "pd.crosstab([tips.time, tips.day], tips.smoker, margins=True)"
   ]
  },
  {
   "cell_type": "markdown",
   "metadata": {},
   "source": [
    "## Example: 2012 Federal Election Commission Database"
   ]
  },
  {
   "cell_type": "code",
   "execution_count": 192,
   "metadata": {
    "collapsed": false
   },
   "outputs": [
    {
     "name": "stderr",
     "output_type": "stream",
     "text": [
      "/usr/lib/python3.8/site-packages/IPython/core/interactiveshell.py:3062: DtypeWarning: Columns (6) have mixed types.Specify dtype option on import or set low_memory=False.\n",
      "  has_raised = await self.run_ast_nodes(code_ast.body, cell_name,\n"
     ]
    }
   ],
   "source": [
    "fec = pd.read_csv('data/agg_group/donations.csv')"
   ]
  },
  {
   "cell_type": "code",
   "execution_count": 193,
   "metadata": {
    "collapsed": false
   },
   "outputs": [
    {
     "name": "stdout",
     "output_type": "stream",
     "text": [
      "<class 'pandas.core.frame.DataFrame'>\n",
      "RangeIndex: 497721 entries, 0 to 497720\n",
      "Data columns (total 16 columns):\n",
      " #   Column             Non-Null Count   Dtype  \n",
      "---  ------             --------------   -----  \n",
      " 0   cmte_id            497721 non-null  object \n",
      " 1   cand_id            497721 non-null  object \n",
      " 2   cand_nm            497721 non-null  object \n",
      " 3   contbr_nm          497721 non-null  object \n",
      " 4   contbr_city        497714 non-null  object \n",
      " 5   contbr_st          497717 non-null  object \n",
      " 6   contbr_zip         497673 non-null  object \n",
      " 7   contbr_employer    493797 non-null  object \n",
      " 8   contbr_occupation  493759 non-null  object \n",
      " 9   contb_receipt_amt  497721 non-null  float64\n",
      " 10  contb_receipt_dt   497721 non-null  object \n",
      " 11  receipt_desc       6765 non-null    object \n",
      " 12  memo_cd            60519 non-null   object \n",
      " 13  memo_text          63698 non-null   object \n",
      " 14  form_tp            497721 non-null  object \n",
      " 15  file_num           497721 non-null  int64  \n",
      "dtypes: float64(1), int64(1), object(14)\n",
      "memory usage: 60.8+ MB\n"
     ]
    }
   ],
   "source": [
    "fec.info()"
   ]
  },
  {
   "cell_type": "code",
   "execution_count": 194,
   "metadata": {
    "collapsed": false
   },
   "outputs": [
    {
     "data": {
      "text/plain": "cmte_id                             C00431445\ncand_id                             P80003338\ncand_nm                         Obama, Barack\ncontbr_nm                         ELLMAN, IRA\ncontbr_city                             TEMPE\ncontbr_st                                  AZ\ncontbr_zip                          852816719\ncontbr_employer      ARIZONA STATE UNIVERSITY\ncontbr_occupation                   PROFESSOR\ncontb_receipt_amt                          50\ncontb_receipt_dt                    01-DEC-11\nreceipt_desc                              NaN\nmemo_cd                                   NaN\nmemo_text                                 NaN\nform_tp                                 SA17A\nfile_num                               772372\nName: 123456, dtype: object"
     },
     "execution_count": 194,
     "metadata": {},
     "output_type": "execute_result"
    }
   ],
   "source": [
    "fec.iloc[123456]"
   ]
  },
  {
   "cell_type": "code",
   "execution_count": 195,
   "metadata": {
    "collapsed": false
   },
   "outputs": [
    {
     "data": {
      "text/plain": "array(['Bachmann, Michelle', 'Romney, Mitt', 'Obama, Barack'],\n      dtype=object)"
     },
     "execution_count": 195,
     "metadata": {},
     "output_type": "execute_result"
    }
   ],
   "source": [
    "unique_cands = fec.cand_nm.unique()\n",
    "unique_cands"
   ]
  },
  {
   "cell_type": "code",
   "execution_count": 196,
   "metadata": {
    "collapsed": false
   },
   "outputs": [
    {
     "data": {
      "text/plain": "'Obama, Barack'"
     },
     "execution_count": 196,
     "metadata": {},
     "output_type": "execute_result"
    }
   ],
   "source": [
    "unique_cands[2]"
   ]
  },
  {
   "cell_type": "code",
   "execution_count": 197,
   "metadata": {
    "collapsed": false
   },
   "outputs": [],
   "source": [
    "parties = {\n",
    "    'Bachmann, Michelle': 'Republican',\n",
    "    'Cain, Herman': 'Republican',\n",
    "    'Gingrich, Newt': 'Republican',\n",
    "    'Huntsman, Jon': 'Republican',\n",
    "    'Johnson, Gary Earl': 'Republican',\n",
    "    'McCotter, Thaddeus G': 'Republican',\n",
    "    'Obama, Barack': 'Democrat',\n",
    "    'Paul, Ron': 'Republican',\n",
    "    'Pawlenty, Timothy': 'Republican',\n",
    "    'Perry, Rick': 'Republican',\n",
    "    \"Roemer, Charles E. 'Buddy' III\": 'Republican',\n",
    "    'Romney, Mitt': 'Republican',\n",
    "    'Santorum, Rick': 'Republican'\n",
    "}"
   ]
  },
  {
   "cell_type": "code",
   "execution_count": 198,
   "metadata": {
    "collapsed": false
   },
   "outputs": [
    {
     "data": {
      "text/plain": "123456    Obama, Barack\n123457    Obama, Barack\n123458    Obama, Barack\n123459    Obama, Barack\n123460    Obama, Barack\nName: cand_nm, dtype: object"
     },
     "execution_count": 198,
     "metadata": {},
     "output_type": "execute_result"
    }
   ],
   "source": [
    "fec.cand_nm[123456:123461]"
   ]
  },
  {
   "cell_type": "code",
   "execution_count": 199,
   "metadata": {
    "collapsed": false
   },
   "outputs": [
    {
     "data": {
      "text/plain": "123456    Democrat\n123457    Democrat\n123458    Democrat\n123459    Democrat\n123460    Democrat\nName: cand_nm, dtype: object"
     },
     "execution_count": 199,
     "metadata": {},
     "output_type": "execute_result"
    }
   ],
   "source": [
    "fec.cand_nm[123456:123461].map(parties)"
   ]
  },
  {
   "cell_type": "code",
   "execution_count": 200,
   "metadata": {
    "collapsed": false
   },
   "outputs": [],
   "source": [
    "# Add it as a column\n",
    "fec['party'] = fec.cand_nm.map(parties)"
   ]
  },
  {
   "cell_type": "code",
   "execution_count": 201,
   "metadata": {
    "collapsed": false
   },
   "outputs": [
    {
     "data": {
      "text/plain": "Democrat      390081\nRepublican    107640\nName: party, dtype: int64"
     },
     "execution_count": 201,
     "metadata": {},
     "output_type": "execute_result"
    }
   ],
   "source": [
    "fec['party'].value_counts()"
   ]
  },
  {
   "cell_type": "code",
   "execution_count": 202,
   "metadata": {
    "collapsed": false
   },
   "outputs": [
    {
     "data": {
      "text/plain": "True     492628\nFalse      5093\nName: contb_receipt_amt, dtype: int64"
     },
     "execution_count": 202,
     "metadata": {},
     "output_type": "execute_result"
    }
   ],
   "source": [
    "(fec.contb_receipt_amt > 0).value_counts()"
   ]
  },
  {
   "cell_type": "code",
   "execution_count": 203,
   "metadata": {
    "collapsed": false
   },
   "outputs": [],
   "source": [
    "fec = fec[fec.contb_receipt_amt > 0]"
   ]
  },
  {
   "cell_type": "code",
   "execution_count": 204,
   "metadata": {
    "collapsed": false
   },
   "outputs": [],
   "source": [
    "fec_mrbo = fec[fec.cand_nm.isin(['Obama, Barack', 'Romney, Mitt'])]"
   ]
  },
  {
   "cell_type": "markdown",
   "metadata": {},
   "source": [
    "### Donation statistics by occupation and employer"
   ]
  },
  {
   "cell_type": "code",
   "execution_count": 205,
   "metadata": {
    "collapsed": false
   },
   "outputs": [
    {
     "data": {
      "text/plain": "RETIRED                                   126369\nATTORNEY                                   21390\nINFORMATION REQUESTED                      16127\nHOMEMAKER                                  15300\nINFORMATION REQUESTED PER BEST EFFORTS     12545\nPHYSICIAN                                  11979\nTEACHER                                     7709\nPROFESSOR                                   7669\nCONSULTANT                                  7226\nNOT EMPLOYED                                6443\nName: contbr_occupation, dtype: int64"
     },
     "execution_count": 205,
     "metadata": {},
     "output_type": "execute_result"
    }
   ],
   "source": [
    "fec.contbr_occupation.value_counts()[:10]"
   ]
  },
  {
   "cell_type": "code",
   "execution_count": 206,
   "metadata": {
    "collapsed": false
   },
   "outputs": [],
   "source": [
    "occ_mapping = {\n",
    "   'INFORMATION REQUESTED PER BEST EFFORTS' : 'NOT PROVIDED',\n",
    "   'INFORMATION REQUESTED' : 'NOT PROVIDED',\n",
    "   'INFORMATION REQUESTED (BEST EFFORTS)' : 'NOT PROVIDED',\n",
    "   'C.E.O.': 'CEO'\n",
    "}\n",
    "\n",
    "# If no mapping provided, return x\n",
    "f = lambda x: occ_mapping.get(x, x)\n",
    "fec.contbr_occupation = fec.contbr_occupation.map(f)"
   ]
  },
  {
   "cell_type": "code",
   "execution_count": 207,
   "metadata": {
    "collapsed": false
   },
   "outputs": [],
   "source": [
    "emp_mapping = {\n",
    "   'INFORMATION REQUESTED PER BEST EFFORTS' : 'NOT PROVIDED',\n",
    "   'INFORMATION REQUESTED' : 'NOT PROVIDED',\n",
    "   'SELF' : 'SELF-EMPLOYED',\n",
    "   'SELF EMPLOYED' : 'SELF-EMPLOYED',\n",
    "}\n",
    "\n",
    "# If no mapping provided, return x\n",
    "f = lambda x: emp_mapping.get(x, x)\n",
    "fec.contbr_employer = fec.contbr_employer.map(f)"
   ]
  },
  {
   "cell_type": "code",
   "execution_count": 208,
   "metadata": {
    "collapsed": false
   },
   "outputs": [],
   "source": [
    "by_occupation = fec.pivot_table(\n",
    "    'contb_receipt_amt',\n",
    "    index='contbr_occupation',\n",
    "    columns='party',\n",
    "    aggfunc='sum'\n",
    ")"
   ]
  },
  {
   "cell_type": "code",
   "execution_count": 209,
   "metadata": {
    "collapsed": false
   },
   "outputs": [
    {
     "data": {
      "text/plain": "party                 Democrat   Republican\ncontbr_occupation                          \nATTORNEY            7204128.05   5369018.82\nCEO                 1398100.99   2326847.03\nCONSULTANT          1721989.15   1426394.01\nEXECUTIVE            913381.56   2301447.03\nHOMEMAKER           2897166.54   8150496.22\nINVESTOR             582180.00   1542595.12\nLAWYER              1994506.11      7705.20\nNOT PROVIDED        3123913.29  11423184.84\nPHYSICIAN           2495138.08   1369323.96\nPRESIDENT           1237972.95   2499474.89\nRETIRED            17038803.99  11589738.59"
     },
     "execution_count": 209,
     "metadata": {},
     "output_type": "execute_result"
    }
   ],
   "source": [
    "over_2mm = by_occupation[by_occupation.sum(1) > 2000000]\n",
    "over_2mm"
   ]
  },
  {
   "cell_type": "code",
   "execution_count": 210,
   "metadata": {
    "collapsed": false,
    "pycharm": {
     "name": "#%%\n"
    }
   },
   "outputs": [
    {
     "data": {
      "text/plain": "<matplotlib.axes._subplots.AxesSubplot at 0x7f2e790b9fd0>"
     },
     "execution_count": 210,
     "metadata": {},
     "output_type": "execute_result"
    },
    {
     "data": {
      "text/plain": "<Figure size 432x288 with 1 Axes>",
      "image/png": "[encoded data removed]"
     },
     "metadata": {
      "needs_background": "light"
     },
     "output_type": "display_data"
    }
   ],
   "source": [
    "over_2mm.plot(kind='barh')"
   ]
  }
 ],
 "metadata": {
  "kernelspec": {
   "name": "pycharm-aae13552",
   "language": "python",
   "display_name": "PyCharm (ODS)"
  },
  "language_info": {
   "codemirror_mode": {
    "name": "ipython",
    "version": 2
   },
   "file_extension": ".py",
   "mimetype": "text/x-python",
   "name": "python",
   "nbconvert_exporter": "python",
   "pygments_lexer": "ipython2",
   "version": "2.7.10"
  }
 },
 "nbformat": 4,
 "nbformat_minor": 0
}